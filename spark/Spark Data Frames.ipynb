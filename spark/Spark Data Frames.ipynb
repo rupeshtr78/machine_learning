{
 "cells": [
  {
   "cell_type": "code",
   "execution_count": 1,
   "metadata": {},
   "outputs": [],
   "source": [
    "import sys.process._"
   ]
  },
  {
   "cell_type": "code",
   "execution_count": 2,
   "metadata": {
    "scrolled": true
   },
   "outputs": [
    {
     "name": "stdout",
     "output_type": "stream",
     "text": [
      "--2020-02-20 14:30:44--  https://raw.githubusercontent.com/rupeshtr78/machine_learning/master/data/fakefriends.csv\n",
      "Resolving raw.githubusercontent.com (raw.githubusercontent.com)... 199.232.8.133\n",
      "Connecting to raw.githubusercontent.com (raw.githubusercontent.com)|199.232.8.133|:443... connected.\n",
      "HTTP request sent, awaiting response... 200 OK\n",
      "Length: 8754 (8.5K) [text/plain]\n",
      "Saving to: 'fakefriends.csv'\n",
      "\n",
      "     0K ........                                              100% 60.4M=0s\n",
      "\n",
      "2020-02-20 14:30:44 (60.4 MB/s) - 'fakefriends.csv' saved [8754/8754]\n",
      "\n"
     ]
    },
    {
     "data": {
      "text/plain": [
       "url = https://raw.githubusercontent.com/rupeshtr78/machine_learning/master/data/fakefriends.csv\n"
      ]
     },
     "metadata": {},
     "output_type": "display_data"
    },
    {
     "data": {
      "text/plain": [
       "0"
      ]
     },
     "execution_count": 2,
     "metadata": {},
     "output_type": "execute_result"
    }
   ],
   "source": [
    "val url = \"https://raw.githubusercontent.com/rupeshtr78/machine_learning/master/data/fakefriends.csv\"\n",
    "\n",
    "s\"wget $url\".!"
   ]
  },
  {
   "cell_type": "code",
   "execution_count": 3,
   "metadata": {
    "scrolled": false
   },
   "outputs": [
    {
     "name": "stdout",
     "output_type": "stream",
     "text": [
      "fakefriends.csv\n",
      "logs\n",
      "spark-events\n",
      "user-libs\n"
     ]
    },
    {
     "data": {
      "text/plain": [
       "warning: there was one feature warning; re-run with -feature for details\n"
      ]
     },
     "metadata": {},
     "output_type": "display_data"
    },
    {
     "data": {
      "text/plain": [
       "0"
      ]
     },
     "execution_count": 3,
     "metadata": {},
     "output_type": "execute_result"
    }
   ],
   "source": [
    "\"ls\"!"
   ]
  },
  {
   "cell_type": "markdown",
   "metadata": {},
   "source": [
    "## Define Class"
   ]
  },
  {
   "cell_type": "code",
   "execution_count": 4,
   "metadata": {
    "scrolled": true
   },
   "outputs": [
    {
     "data": {
      "text/plain": [
       "defined class Person\n"
      ]
     },
     "metadata": {},
     "output_type": "display_data"
    }
   ],
   "source": [
    "case class Person(ID:Int, name:String, age:Int, numFriends:Int)"
   ]
  },
  {
   "cell_type": "markdown",
   "metadata": {},
   "source": [
    "### Split by seperator and map to class"
   ]
  },
  {
   "cell_type": "code",
   "execution_count": 5,
   "metadata": {},
   "outputs": [
    {
     "data": {
      "text/plain": [
       "mapper: (line: String)Person\n"
      ]
     },
     "metadata": {},
     "output_type": "display_data"
    }
   ],
   "source": [
    "  def mapper(line:String): Person = {\n",
    "    val fields = line.split(',')  \n",
    "    \n",
    "    val person:Person = Person(fields(0).toInt, fields(1), fields(2).toInt, fields(3).toInt)\n",
    "    return person\n",
    "  }"
   ]
  },
  {
   "cell_type": "code",
   "execution_count": 6,
   "metadata": {},
   "outputs": [],
   "source": [
    "import org.apache.spark._\n",
    "import org.apache.spark.SparkContext._\n",
    "import org.apache.spark.sql._\n",
    "import org.apache.log4j._"
   ]
  },
  {
   "cell_type": "code",
   "execution_count": 7,
   "metadata": {},
   "outputs": [
    {
     "data": {
      "text/plain": [
       "spark = org.apache.spark.sql.SparkSession@2121c092\n"
      ]
     },
     "metadata": {},
     "output_type": "display_data"
    },
    {
     "data": {
      "text/plain": [
       "org.apache.spark.sql.SparkSession@2121c092"
      ]
     },
     "execution_count": 7,
     "metadata": {},
     "output_type": "execute_result"
    }
   ],
   "source": [
    "    val spark = SparkSession\n",
    "      .builder\n",
    "      .appName(\"SparkSQL\")\n",
    "      .getOrCreate()"
   ]
  },
  {
   "cell_type": "code",
   "execution_count": 8,
   "metadata": {
    "scrolled": true
   },
   "outputs": [
    {
     "data": {
      "text/plain": [
       "lines = fakefriends.csv MapPartitionsRDD[1] at textFile at <console>:42\n"
      ]
     },
     "metadata": {},
     "output_type": "display_data"
    },
    {
     "data": {
      "text/plain": [
       "fakefriends.csv MapPartitionsRDD[1] at textFile at <console>:42"
      ]
     },
     "execution_count": 8,
     "metadata": {},
     "output_type": "execute_result"
    }
   ],
   "source": [
    "val lines = spark.sparkContext.textFile(\"fakefriends.csv\")"
   ]
  },
  {
   "cell_type": "code",
   "execution_count": 9,
   "metadata": {
    "scrolled": true
   },
   "outputs": [
    {
     "data": {
      "text/plain": [
       "people = MapPartitionsRDD[2] at map at <console>:48\n"
      ]
     },
     "metadata": {},
     "output_type": "display_data"
    },
    {
     "data": {
      "text/plain": [
       "MapPartitionsRDD[2] at map at <console>:48"
      ]
     },
     "execution_count": 9,
     "metadata": {},
     "output_type": "execute_result"
    }
   ],
   "source": [
    "val people = lines.map(mapper)"
   ]
  },
  {
   "cell_type": "code",
   "execution_count": 10,
   "metadata": {
    "scrolled": true
   },
   "outputs": [
    {
     "data": {
      "text/plain": [
       "schemaPeople = [ID: int, name: string ... 2 more fields]\n"
      ]
     },
     "metadata": {},
     "output_type": "display_data"
    },
    {
     "data": {
      "text/plain": [
       "[ID: int, name: string ... 2 more fields]"
      ]
     },
     "execution_count": 10,
     "metadata": {},
     "output_type": "execute_result"
    }
   ],
   "source": [
    "val schemaPeople = people.toDS"
   ]
  },
  {
   "cell_type": "code",
   "execution_count": 11,
   "metadata": {
    "scrolled": true
   },
   "outputs": [
    {
     "name": "stdout",
     "output_type": "stream",
     "text": [
      "root\n",
      " |-- ID: integer (nullable = false)\n",
      " |-- name: string (nullable = true)\n",
      " |-- age: integer (nullable = false)\n",
      " |-- numFriends: integer (nullable = false)\n",
      "\n"
     ]
    }
   ],
   "source": [
    "schemaPeople.printSchema()"
   ]
  },
  {
   "cell_type": "code",
   "execution_count": 12,
   "metadata": {},
   "outputs": [],
   "source": [
    "schemaPeople.createOrReplaceTempView(\"people\")"
   ]
  },
  {
   "cell_type": "code",
   "execution_count": 13,
   "metadata": {
    "scrolled": true
   },
   "outputs": [
    {
     "data": {
      "text/plain": [
       "teenagers = [ID: int, name: string ... 2 more fields]\n"
      ]
     },
     "metadata": {},
     "output_type": "display_data"
    },
    {
     "data": {
      "text/plain": [
       "[ID: int, name: string ... 2 more fields]"
      ]
     },
     "execution_count": 13,
     "metadata": {},
     "output_type": "execute_result"
    }
   ],
   "source": [
    "val teenagers = spark.sql(\"SELECT * FROM people WHERE age >= 13 AND age <= 19\")"
   ]
  },
  {
   "cell_type": "code",
   "execution_count": 14,
   "metadata": {
    "scrolled": true
   },
   "outputs": [
    {
     "data": {
      "text/plain": [
       "results = Array([21,Miles,19,268], [52,Beverly,19,269], [54,Brunt,19,5], [106,Beverly,18,499], [115,Dukat,18,397], [133,Quark,19,265], [136,Will,19,335], [225,Elim,19,106], [304,Will,19,404], [341,Data,18,326], [366,Keiko,19,119], [373,Quark,19,272], [377,Beverly,18,418], [404,Kasidy,18,24], [409,Nog,19,267], [439,Data,18,417], [444,Keiko,18,472], [492,Dukat,19,36], [494,Kasidy,18,194])\n"
      ]
     },
     "metadata": {},
     "output_type": "display_data"
    },
    {
     "data": {
      "text/plain": [
       "Array([21,Miles,19,268], [52,Beverly,19,269], [54,Brunt,19,5], [106,Beverly,18,499], [115,Dukat,18,397], [133,Quark,19,265], [136,Will,19,335], [225,Elim,19,106], [304,Will,19,404], [341,Data,18,326], [366,Keiko,19,119], [373,Quark,19,272], [377,Beverly,18,418], [404,Kasidy,18,24], [409,Nog,19,267], [439,Data,18,417], [444,Keiko,18,472], [492,Dukat,19,36], [494,Kasidy,18,194])"
      ]
     },
     "execution_count": 14,
     "metadata": {},
     "output_type": "execute_result"
    }
   ],
   "source": [
    "val results = teenagers.collect()"
   ]
  },
  {
   "cell_type": "code",
   "execution_count": 15,
   "metadata": {
    "scrolled": false
   },
   "outputs": [
    {
     "name": "stdout",
     "output_type": "stream",
     "text": [
      "[21,Miles,19,268]\n",
      "[52,Beverly,19,269]\n",
      "[54,Brunt,19,5]\n",
      "[106,Beverly,18,499]\n",
      "[115,Dukat,18,397]\n",
      "[133,Quark,19,265]\n",
      "[136,Will,19,335]\n",
      "[225,Elim,19,106]\n",
      "[304,Will,19,404]\n",
      "[341,Data,18,326]\n",
      "[366,Keiko,19,119]\n",
      "[373,Quark,19,272]\n",
      "[377,Beverly,18,418]\n",
      "[404,Kasidy,18,24]\n",
      "[409,Nog,19,267]\n",
      "[439,Data,18,417]\n",
      "[444,Keiko,18,472]\n",
      "[492,Dukat,19,36]\n",
      "[494,Kasidy,18,194]\n"
     ]
    }
   ],
   "source": [
    "results.foreach(println)"
   ]
  },
  {
   "cell_type": "markdown",
   "metadata": {},
   "source": [
    "## Adding Cache"
   ]
  },
  {
   "cell_type": "code",
   "execution_count": 16,
   "metadata": {
    "scrolled": true
   },
   "outputs": [
    {
     "data": {
      "text/plain": [
       "people_cache = [ID: int, name: string ... 2 more fields]\n"
      ]
     },
     "metadata": {},
     "output_type": "display_data"
    },
    {
     "data": {
      "text/plain": [
       "[ID: int, name: string ... 2 more fields]"
      ]
     },
     "execution_count": 16,
     "metadata": {},
     "output_type": "execute_result"
    }
   ],
   "source": [
    "// val people = lines.map(mapper)\n",
    "// val schemaPeople = people.toDS\n",
    "val people_cache = lines.map(mapper).toDS().cache()"
   ]
  },
  {
   "cell_type": "code",
   "execution_count": 17,
   "metadata": {
    "scrolled": true
   },
   "outputs": [
    {
     "name": "stdout",
     "output_type": "stream",
     "text": [
      "root\n",
      " |-- ID: integer (nullable = false)\n",
      " |-- name: string (nullable = true)\n",
      " |-- age: integer (nullable = false)\n",
      " |-- numFriends: integer (nullable = false)\n",
      "\n"
     ]
    }
   ],
   "source": [
    "people_cache.printSchema()"
   ]
  },
  {
   "cell_type": "code",
   "execution_count": 18,
   "metadata": {},
   "outputs": [
    {
     "name": "stdout",
     "output_type": "stream",
     "text": [
      "+--------+\n",
      "|    name|\n",
      "+--------+\n",
      "|    Will|\n",
      "|Jean-Luc|\n",
      "|    Hugh|\n",
      "|  Deanna|\n",
      "|   Quark|\n",
      "|  Weyoun|\n",
      "|  Gowron|\n",
      "|    Will|\n",
      "|  Jadzia|\n",
      "|    Hugh|\n",
      "|     Odo|\n",
      "|     Ben|\n",
      "|   Keiko|\n",
      "|Jean-Luc|\n",
      "|    Hugh|\n",
      "|     Rom|\n",
      "|  Weyoun|\n",
      "|     Odo|\n",
      "|Jean-Luc|\n",
      "|  Geordi|\n",
      "+--------+\n",
      "only showing top 20 rows\n",
      "\n"
     ]
    }
   ],
   "source": [
    "people_cache.select(\"name\").show()"
   ]
  },
  {
   "cell_type": "code",
   "execution_count": 19,
   "metadata": {
    "scrolled": true
   },
   "outputs": [
    {
     "name": "stdout",
     "output_type": "stream",
     "text": [
      "+---+-------+---+----------+\n",
      "| ID|   name|age|numFriends|\n",
      "+---+-------+---+----------+\n",
      "| 21|  Miles| 19|       268|\n",
      "| 48|    Nog| 20|         1|\n",
      "| 52|Beverly| 19|       269|\n",
      "| 54|  Brunt| 19|         5|\n",
      "| 60| Geordi| 20|       100|\n",
      "| 73|  Brunt| 20|       384|\n",
      "|106|Beverly| 18|       499|\n",
      "|115|  Dukat| 18|       397|\n",
      "|133|  Quark| 19|       265|\n",
      "|136|   Will| 19|       335|\n",
      "|225|   Elim| 19|       106|\n",
      "|304|   Will| 19|       404|\n",
      "|327| Julian| 20|        63|\n",
      "|341|   Data| 18|       326|\n",
      "|349| Kasidy| 20|       277|\n",
      "|366|  Keiko| 19|       119|\n",
      "|373|  Quark| 19|       272|\n",
      "|377|Beverly| 18|       418|\n",
      "|404| Kasidy| 18|        24|\n",
      "|409|    Nog| 19|       267|\n",
      "+---+-------+---+----------+\n",
      "only showing top 20 rows\n",
      "\n"
     ]
    }
   ],
   "source": [
    "people_cache.filter(people_cache(\"age\") < 21).show()"
   ]
  },
  {
   "cell_type": "code",
   "execution_count": 20,
   "metadata": {
    "scrolled": true
   },
   "outputs": [
    {
     "name": "stdout",
     "output_type": "stream",
     "text": [
      "+---+-----+\n",
      "|age|count|\n",
      "+---+-----+\n",
      "| 31|    8|\n",
      "| 65|    5|\n",
      "| 53|    7|\n",
      "| 34|    6|\n",
      "| 28|   10|\n",
      "| 26|   17|\n",
      "| 27|    8|\n",
      "| 44|   12|\n",
      "| 22|    7|\n",
      "| 47|    9|\n",
      "| 52|   11|\n",
      "| 40|   17|\n",
      "| 20|    5|\n",
      "| 57|   12|\n",
      "| 54|   13|\n",
      "| 48|   10|\n",
      "| 19|   11|\n",
      "| 64|   12|\n",
      "| 41|    9|\n",
      "| 43|    7|\n",
      "+---+-----+\n",
      "only showing top 20 rows\n",
      "\n"
     ]
    }
   ],
   "source": [
    "people_cache.groupBy(\"age\").count().show()"
   ]
  },
  {
   "cell_type": "code",
   "execution_count": 21,
   "metadata": {},
   "outputs": [
    {
     "name": "stdout",
     "output_type": "stream",
     "text": [
      "+--------+----------+\n",
      "|    name|(age + 10)|\n",
      "+--------+----------+\n",
      "|    Will|        43|\n",
      "|Jean-Luc|        36|\n",
      "|    Hugh|        65|\n",
      "|  Deanna|        50|\n",
      "|   Quark|        78|\n",
      "|  Weyoun|        69|\n",
      "|  Gowron|        47|\n",
      "|    Will|        64|\n",
      "|  Jadzia|        48|\n",
      "|    Hugh|        37|\n",
      "|     Odo|        63|\n",
      "|     Ben|        67|\n",
      "|   Keiko|        64|\n",
      "|Jean-Luc|        66|\n",
      "|    Hugh|        53|\n",
      "|     Rom|        46|\n",
      "|  Weyoun|        32|\n",
      "|     Odo|        45|\n",
      "|Jean-Luc|        55|\n",
      "|  Geordi|        70|\n",
      "+--------+----------+\n",
      "only showing top 20 rows\n",
      "\n"
     ]
    }
   ],
   "source": [
    "people_cache.select(people_cache(\"name\"), people_cache(\"age\") + 10).show()"
   ]
  }
 ],
 "metadata": {
  "kernelspec": {
   "display_name": "Scala 2.11 with Spark",
   "language": "scala",
   "name": "scala"
  },
  "language_info": {
   "codemirror_mode": "text/x-scala",
   "file_extension": ".scala",
   "mimetype": "text/x-scala",
   "name": "scala",
   "pygments_lexer": "scala",
   "version": "2.11.12"
  }
 },
 "nbformat": 4,
 "nbformat_minor": 1
}
