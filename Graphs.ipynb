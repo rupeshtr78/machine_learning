{
  "nbformat": 4,
  "nbformat_minor": 0,
  "metadata": {
    "colab": {
      "name": "Graphs.ipynb",
      "provenance": [],
      "collapsed_sections": []
    },
    "kernelspec": {
      "name": "python3",
      "display_name": "Python 3"
    }
  },
  "cells": [
    {
      "cell_type": "markdown",
      "metadata": {
        "id": "M-q5cbkja1Cv",
        "colab_type": "text"
      },
      "source": [
        "## Graph\n",
        "\n",
        "A \"graph\" in mathematics and computer science consists of \"nodes\", also known as \"vertices\".   \n",
        "**Nodes** may or may not be connected with one another.   \n",
        "The node \"a\" is connected with the node \"c\", but \"a\" is not connected with \"b\".  \n",
        "The connecting line between two nodes is called an **edge**.   \n",
        "\n",
        "If the edges between the nodes are undirected, the graph is called an undirected graph.   \n",
        "If an edge is directed from one vertex (node) to another, a graph is called a directed graph. An directed edge is called an arc. "
      ]
    },
    {
      "cell_type": "markdown",
      "metadata": {
        "id": "EWz-Mwozap0Q",
        "colab_type": "text"
      },
      "source": [
        "![alt text](https://www.python-course.eu/images/simple_graph_isolated.png)"
      ]
    },
    {
      "cell_type": "code",
      "metadata": {
        "id": "1HTLL24nabMh",
        "colab_type": "code",
        "colab": {}
      },
      "source": [
        "graph = { \"a\" : [\"c\"],\n",
        "          \"b\" : [\"c\", \"e\"],\n",
        "          \"c\" : [\"a\", \"b\", \"d\", \"e\"],\n",
        "          \"d\" : [\"c\"],\n",
        "          \"e\" : [\"c\", \"b\"],\n",
        "          \"f\" : []\n",
        "        }"
      ],
      "execution_count": 0,
      "outputs": []
    },
    {
      "cell_type": "markdown",
      "metadata": {
        "id": "L-kzpgPqbbI5",
        "colab_type": "text"
      },
      "source": [
        "The keys of the dictionary above are the nodes of our graph.  \n",
        "The corresponding values are lists are the nodes, which are connecting to the ley value by an edge  \n",
        "\n",
        "{  \n",
        "  a': ['c'],  \n",
        " 'b': ['c', 'e'],  \n",
        " 'c': ['a', 'b', 'd', 'e'],  \n",
        " 'd': ['c'],  \n",
        " 'e': ['c', 'b'],  \n",
        " 'f': []  \n",
        " }\n",
        "  \n",
        "\n",
        "An edge can be seen as a 2-tuple with nodes as elements, i.e. (\"a\",\"b\")   \n",
        "\n",
        "Generate Edges"
      ]
    },
    {
      "cell_type": "code",
      "metadata": {
        "id": "FxSV26AbahfQ",
        "colab_type": "code",
        "colab": {
          "base_uri": "https://localhost:8080/",
          "height": 35
        },
        "outputId": "677d9a11-0afd-477b-a636-f857232195e8"
      },
      "source": [
        "def generate_edges(graph):\n",
        "    edges = []\n",
        "    for node in graph:\n",
        "        for neighbour in graph[node]:\n",
        "            edges.append((node, neighbour))\n",
        "\n",
        "    return edges\n",
        "\n",
        "print(generate_edges(graph))"
      ],
      "execution_count": 9,
      "outputs": [
        {
          "output_type": "stream",
          "text": [
            "[('a', 'c'), ('b', 'c'), ('b', 'e'), ('c', 'a'), ('c', 'b'), ('c', 'd'), ('c', 'e'), ('d', 'c'), ('e', 'c'), ('e', 'b')]\n"
          ],
          "name": "stdout"
        }
      ]
    },
    {
      "cell_type": "markdown",
      "metadata": {
        "id": "A1a15fZmc7Ia",
        "colab_type": "text"
      },
      "source": [
        "Find Isolated Nodes"
      ]
    },
    {
      "cell_type": "code",
      "metadata": {
        "id": "GinUAwPRcMHC",
        "colab_type": "code",
        "colab": {
          "base_uri": "https://localhost:8080/",
          "height": 35
        },
        "outputId": "e5ca8067-3200-423c-cd8c-7fefb2301124"
      },
      "source": [
        "def find_isolated_nodes(graph):\n",
        "    \"\"\" returns a list of isolated nodes. \"\"\"\n",
        "    isolated = []\n",
        "    for node in graph:\n",
        "        if not graph[node]:\n",
        "            isolated += node\n",
        "    return isolated\n",
        "\n",
        "\n",
        "print(find_isolated_nodes(graph))\n",
        "\n"
      ],
      "execution_count": 11,
      "outputs": [
        {
          "output_type": "stream",
          "text": [
            "['f']\n"
          ],
          "name": "stdout"
        }
      ]
    },
    {
      "cell_type": "markdown",
      "metadata": {
        "id": "Us_FSBIbmU46",
        "colab_type": "text"
      },
      "source": [
        "**Breadth First Search or BFS for a Graph**"
      ]
    },
    {
      "cell_type": "code",
      "metadata": {
        "id": "EmvO1rlRmVga",
        "colab_type": "code",
        "colab": {}
      },
      "source": [
        "def bfs(visited, graph, node):\n",
        "  visited = [] # List to keep track of visited nodes.\n",
        "  queue = []     #Initialize a queue\n",
        "  visited.append(node)\n",
        "  queue.append(node)\n",
        "\n",
        "  while queue:\n",
        "    s = queue.pop(0) \n",
        "    print (s, end = \" \") \n",
        "\n",
        "    for neighbour in graph[s]:\n",
        "      if neighbour not in visited:\n",
        "        visited.append(neighbour)\n",
        "        queue.append(neighbour)"
      ],
      "execution_count": 0,
      "outputs": []
    },
    {
      "cell_type": "code",
      "metadata": {
        "id": "VBWxpX9_nGjm",
        "colab_type": "code",
        "colab": {
          "base_uri": "https://localhost:8080/",
          "height": 35
        },
        "outputId": "63ea343e-7d09-493d-f544-cc36f225d852"
      },
      "source": [
        "# Driver Code\n",
        "bfs(visited, graph, 'c')"
      ],
      "execution_count": 56,
      "outputs": [
        {
          "output_type": "stream",
          "text": [
            "c a b d e "
          ],
          "name": "stdout"
        }
      ]
    },
    {
      "cell_type": "code",
      "metadata": {
        "id": "aQXZ35Lovly8",
        "colab_type": "code",
        "colab": {}
      },
      "source": [
        "# finds shortest path between 2 nodes of a graph using BFS\n",
        "def bfs_shortest_path(graph, start, goal):\n",
        "    # keep track of explored nodes\n",
        "    explored = []\n",
        "    # keep track of all the paths to be checked\n",
        "    queue = [[start]]\n",
        " \n",
        "    # return path if start is goal\n",
        "    if start == goal:\n",
        "        return \"Start = goal\"\n",
        " \n",
        "    # keeps looping until all possible paths have been checked\n",
        "    while queue:\n",
        "        # pop the first path from the queue\n",
        "        path = queue.pop(0)\n",
        "        # get the last node from the path\n",
        "        node = path[-1]\n",
        "        if node not in explored:\n",
        "            neighbours = graph[node]\n",
        "            # go through all neighbour nodes, construct a new path and\n",
        "            # push it into the queue\n",
        "            for neighbour in neighbours:\n",
        "                new_path = list(path)\n",
        "                new_path.append(neighbour)\n",
        "                queue.append(new_path)\n",
        "                # return path if neighbour is goal\n",
        "                if neighbour == goal:\n",
        "                    return new_path\n",
        " \n",
        "            # mark node as explored\n",
        "            explored.append(node)\n",
        " \n",
        "    # in case there's no path between the 2 nodes\n",
        "    return \"%s Node is a Isolated Node\" % (goal)\n",
        " "
      ],
      "execution_count": 0,
      "outputs": []
    },
    {
      "cell_type": "code",
      "metadata": {
        "id": "P8jfNNtgv9Qa",
        "colab_type": "code",
        "colab": {
          "base_uri": "https://localhost:8080/",
          "height": 35
        },
        "outputId": "c3d0d275-2b6e-47ff-e76f-9dbe4ddd0031"
      },
      "source": [
        "\n",
        "bfs_shortest_path(graph, 'a', 'c')  # returns ['G', 'C', 'A', 'B', 'D']\n"
      ],
      "execution_count": 11,
      "outputs": [
        {
          "output_type": "execute_result",
          "data": {
            "text/plain": [
              "['a', 'c']"
            ]
          },
          "metadata": {
            "tags": []
          },
          "execution_count": 11
        }
      ]
    }
  ]
}