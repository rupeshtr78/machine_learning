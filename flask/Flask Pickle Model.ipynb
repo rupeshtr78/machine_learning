{
 "cells": [
  {
   "cell_type": "code",
   "execution_count": null,
   "metadata": {},
   "outputs": [],
   "source": [
    "import pandas as pd\n",
    "import numpy as np\n",
    "from sklearn import preprocessing \n",
    "import pickle"
   ]
  },
  {
   "cell_type": "code",
   "execution_count": null,
   "metadata": {
    "scrolled": true
   },
   "outputs": [],
   "source": [
    "df = pd.read_csv('data/adult.data')     \n",
    "df.head() "
   ]
  },
  {
   "cell_type": "code",
   "execution_count": null,
   "metadata": {
    "scrolled": false
   },
   "outputs": [],
   "source": [
    "df = df.drop(['fnlwgt', 'educational-num'], axis = 1) \n",
    "   "
   ]
  },
  {
   "cell_type": "markdown",
   "metadata": {},
   "source": [
    "## Fill Nan"
   ]
  },
  {
   "cell_type": "code",
   "execution_count": null,
   "metadata": {},
   "outputs": [],
   "source": [
    "col_names = df.columns \n",
    "for c in col_names: \n",
    "    df = df.replace(\"?\", np.NaN) \n",
    "df = df.apply(lambda x:x.fillna(x.value_counts().index[0])) \n",
    "\n",
    "df.head()"
   ]
  },
  {
   "cell_type": "markdown",
   "metadata": {},
   "source": [
    "Discretization – It is a common way to make categorical data more tidy and meaningful.  \n",
    "We have applied discretization on column marital_status where they are narrowed down to only to values married or not married.   \n",
    "Later, we will apply label encoder in the remaining data columns. Also, there are two redundant columns {‘education’, ‘educational-num’}, therefore, we have removed one of them."
   ]
  },
  {
   "cell_type": "markdown",
   "metadata": {},
   "source": [
    "## Replace "
   ]
  },
  {
   "cell_type": "code",
   "execution_count": null,
   "metadata": {
    "scrolled": false
   },
   "outputs": [],
   "source": [
    "df.replace(['Divorced', 'Married-AF-spouse', 'Married-civ-spouse', 'Married-spouse-absent', \n",
    "            'Never-married', 'Separated', 'Widowed'],\n",
    "           ['divorced', 'married', 'married', 'married', 'not married', \n",
    "            'not married', 'not married'],inplace = True,regex=True)\n",
    "\n",
    "df.head(10)"
   ]
  },
  {
   "cell_type": "code",
   "execution_count": null,
   "metadata": {},
   "outputs": [],
   "source": [
    "df3 = pd.DataFrame([0, 1, 2, 3, 4])\n",
    "\n",
    "df3.replace([0, 1, 2, 3], [4, 4, 4, 10] ,inplace = True)\n",
    "\n",
    "df3"
   ]
  },
  {
   "cell_type": "markdown",
   "metadata": {},
   "source": [
    "## LabelEncoder()"
   ]
  },
  {
   "cell_type": "code",
   "execution_count": null,
   "metadata": {
    "scrolled": true
   },
   "outputs": [],
   "source": [
    "le = preprocessing.LabelEncoder()\n",
    "le.fit([\"paris\", \"paris\", \"tokyo\", \"amsterdam\"])"
   ]
  },
  {
   "cell_type": "code",
   "execution_count": null,
   "metadata": {
    "scrolled": true
   },
   "outputs": [],
   "source": [
    "list(le.classes_)"
   ]
  },
  {
   "cell_type": "code",
   "execution_count": null,
   "metadata": {
    "scrolled": true
   },
   "outputs": [],
   "source": [
    "# gets the index value from the list classes\n",
    "le.transform([\"tokyo\", \"amsterdam\", \"paris\",\"paris\"])"
   ]
  },
  {
   "cell_type": "code",
   "execution_count": null,
   "metadata": {},
   "outputs": [],
   "source": [
    "# gets the class value from index\n",
    "list(le.inverse_transform([2, 2, 1]))"
   ]
  },
  {
   "cell_type": "code",
   "execution_count": null,
   "metadata": {
    "scrolled": true
   },
   "outputs": [],
   "source": [
    "# Above in one Step\n",
    "le.fit_transform([\"Thrissur\", \"Kozhikode\", \"Chennai\", \"Kochi\"])"
   ]
  },
  {
   "cell_type": "code",
   "execution_count": null,
   "metadata": {},
   "outputs": [],
   "source": [
    "list(le.classes_)"
   ]
  },
  {
   "cell_type": "markdown",
   "metadata": {},
   "source": [
    "## Rename Column"
   ]
  },
  {
   "cell_type": "code",
   "execution_count": null,
   "metadata": {},
   "outputs": [],
   "source": [
    "category_col =['workclass', 'race', 'education', 'marital-status', 'occupation', \n",
    "               'relationship', 'gender', 'native-country', 'income']  "
   ]
  },
  {
   "cell_type": "code",
   "execution_count": null,
   "metadata": {},
   "outputs": [],
   "source": [
    "df.rename(columns = {' State-gov':'workclass', \n",
    "          ' Bachelors':'education', \n",
    "          ' Never-married':'marital-status', \n",
    "          ' Adm-clerical':'occupation',\n",
    "          ' Not-in-family':'relationship', \n",
    "          ' White':'race', \n",
    "          ' Male':'gender', \n",
    "          ' United-States':'native-country', \n",
    "          ' <=50K':'income'},inplace=True)"
   ]
  },
  {
   "cell_type": "code",
   "execution_count": null,
   "metadata": {},
   "outputs": [],
   "source": [
    "labelEncoder = preprocessing.LabelEncoder()\n",
    "labelEncoder.fit_transform(category_col) "
   ]
  },
  {
   "cell_type": "code",
   "execution_count": null,
   "metadata": {
    "scrolled": true
   },
   "outputs": [],
   "source": [
    "df['race'][:5]"
   ]
  },
  {
   "cell_type": "code",
   "execution_count": null,
   "metadata": {},
   "outputs": [],
   "source": [
    "cv = df.dtypes.loc[df.dtypes == 'object'].index\n",
    "print(cv)"
   ]
  },
  {
   "cell_type": "code",
   "execution_count": null,
   "metadata": {
    "scrolled": true
   },
   "outputs": [],
   "source": [
    "labelEncoder = preprocessing.LabelEncoder() \n",
    "mapping_dict ={} \n",
    "for col in cv: \n",
    "    df[col] = labelEncoder.fit_transform(df[col]) \n",
    "  \n",
    "    le_name_mapping = dict(zip(labelEncoder.classes_, \n",
    "                        labelEncoder.transform(labelEncoder.classes_))) \n",
    "  \n",
    "    mapping_dict[col]= le_name_mapping \n",
    "print(mapping_dict) "
   ]
  },
  {
   "cell_type": "code",
   "execution_count": null,
   "metadata": {},
   "outputs": [],
   "source": [
    "\n",
    "from sklearn.model_selection import train_test_split \n",
    "from sklearn.tree import DecisionTreeClassifier \n",
    "from sklearn.metrics import accuracy_score \n",
    "  \n",
    "X = df.values[:, 0:12] \n",
    "Y = df.values[:, 12] \n"
   ]
  },
  {
   "cell_type": "code",
   "execution_count": null,
   "metadata": {},
   "outputs": [],
   "source": [
    "X[:3,]"
   ]
  },
  {
   "cell_type": "code",
   "execution_count": null,
   "metadata": {},
   "outputs": [],
   "source": [
    "\n",
    "X_train, X_test, y_train, y_test = train_test_split( \n",
    "           X, Y, test_size = 0.3, random_state = 100) \n",
    "  \n",
    "dt_clf_gini = DecisionTreeClassifier(criterion = \"gini\", \n",
    "                                     random_state = 100, \n",
    "                                     max_depth = 6, \n",
    "                                     min_samples_leaf = 5) \n",
    "  \n",
    "dt_clf_gini.fit(X_train, y_train) \n",
    "y_pred_gini = dt_clf_gini.predict(X_test) \n",
    "  \n",
    "print (\"Desicion Tree using Gini Index\\nAccuracy is \", \n",
    "             accuracy_score(y_test, y_pred_gini)*100 ) \n"
   ]
  },
  {
   "cell_type": "markdown",
   "metadata": {},
   "source": [
    "## Flask Model "
   ]
  },
  {
   "cell_type": "code",
   "execution_count": null,
   "metadata": {},
   "outputs": [],
   "source": [
    "pickle.dump(dt_clf_gini, open('model.pkl','wb'))"
   ]
  },
  {
   "cell_type": "code",
   "execution_count": null,
   "metadata": {
    "scrolled": true
   },
   "outputs": [],
   "source": [
    "model = pickle.load(open('model.pkl','rb'))\n",
    "# print(model.predict([[4, 300, 500]]))"
   ]
  },
  {
   "cell_type": "markdown",
   "metadata": {},
   "source": [
    "## Script.py"
   ]
  },
  {
   "cell_type": "code",
   "execution_count": null,
   "metadata": {},
   "outputs": [],
   "source": [
    "import numpy as np\n",
    "from flask import Flask, request, jsonify, render_template\n",
    "import pickle\n",
    "\n",
    "app = Flask(__name__)\n",
    "model = pickle.load(open('model.pkl','rb'))\n",
    "\n",
    "@app.route('/')\n",
    "def home():\n",
    "    return render_template('index.html')\n",
    "\n",
    "# prediction function\n",
    "\n",
    "def ValuePredictor(to_predict_list):\n",
    "    to_predict = np.array(to_predict_list).reshape(1, 12)\n",
    "    loaded_model = pickle.load(open('model.pkl','rb'))\n",
    "    result = loaded_model.predict(to_predict)\n",
    "    return result[0]\n",
    "\n",
    "@app.route('/result', methods=['POST'])\n",
    "def result():\n",
    "        if request.method == 'POST':\n",
    "                to_predict_list = request.form.to_dict()\n",
    "                to_predict_list = list(to_predict_list.values())\n",
    "                to_predict_list = list(map(int, to_predict_list))\n",
    "                result = ValuePredictor(to_predict_list)\n",
    "                if int(result) == 1:\n",
    "                        prediction = 'Income more than 50K'\n",
    "                else:\n",
    "                        prediction = 'Income less that 50K'\n",
    "                return render_template(\"result.html\", prediction=prediction)\n"
   ]
  },
  {
   "cell_type": "code",
   "execution_count": null,
   "metadata": {},
   "outputs": [],
   "source": [
    "mkdir income-prediction\n",
    "cd income-prediction\n",
    "python3 -m venv venv\n",
    "source venv/bin/activate\n",
    "pip install flask numpy sklearn pandas\n",
    "mkdir templates"
   ]
  },
  {
   "cell_type": "code",
   "execution_count": null,
   "metadata": {},
   "outputs": [],
   "source": [
    "export FLASK_APP=script.py\n",
    "flask run"
   ]
  },
  {
   "cell_type": "code",
   "execution_count": null,
   "metadata": {},
   "outputs": [],
   "source": [
    "├── ./model.pkl\n",
    "├── ./__pycache__\n",
    "│   └──\n",
    "├── ./script.py\n",
    "├── ./templates\n",
    "│   ├── ./templates/index.html\n",
    "│   └── ./templates/result.html\n",
    "└── ./venv\n",
    "    ├── ./venv/bin\n",
    "    ├── ./venv/include\n",
    "    ├── ./venv/lib\n",
    "    ├── ./venv/lib64 -> lib\n",
    "    └── ./venv/pyvenv.cfg"
   ]
  }
 ],
 "metadata": {
  "kernelspec": {
   "display_name": "Python 3",
   "language": "python",
   "name": "python3"
  },
  "language_info": {
   "codemirror_mode": {
    "name": "ipython",
    "version": 3
   },
   "file_extension": ".py",
   "mimetype": "text/x-python",
   "name": "python",
   "nbconvert_exporter": "python",
   "pygments_lexer": "ipython3",
   "version": "3.6.10"
  }
 },
 "nbformat": 4,
 "nbformat_minor": 2
}
