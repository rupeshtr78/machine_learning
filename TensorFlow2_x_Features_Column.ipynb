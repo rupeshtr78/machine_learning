{
  "nbformat": 4,
  "nbformat_minor": 0,
  "metadata": {
    "colab": {
      "name": "TensorFlow2.x Features Column.ipynb",
      "provenance": [],
      "collapsed_sections": []
    },
    "kernelspec": {
      "name": "python3",
      "display_name": "Python 3"
    }
  },
  "cells": [
    {
      "cell_type": "code",
      "metadata": {
        "id": "D9npsVYD7yUX",
        "colab_type": "code",
        "outputId": "d37c047e-086f-4de1-e247-42443da73c3d",
        "colab": {
          "base_uri": "https://localhost:8080/",
          "height": 35
        }
      },
      "source": [
        "%tensorflow_version 2.x"
      ],
      "execution_count": 2,
      "outputs": [
        {
          "output_type": "stream",
          "text": [
            "TensorFlow 2.x selected.\n"
          ],
          "name": "stdout"
        }
      ]
    },
    {
      "cell_type": "code",
      "metadata": {
        "id": "Lx1f_YdN7nwz",
        "colab_type": "code",
        "colab": {}
      },
      "source": [
        "import numpy as np\n",
        "import tensorflow as tf\n",
        "import pandas as pd\n",
        "\n",
        "from IPython.display import Image"
      ],
      "execution_count": 0,
      "outputs": []
    },
    {
      "cell_type": "code",
      "metadata": {
        "id": "O4MIga6979gp",
        "colab_type": "code",
        "colab": {}
      },
      "source": [
        "tf.random.set_seed(1)\n",
        "np.random.seed(1)"
      ],
      "execution_count": 0,
      "outputs": []
    },
    {
      "cell_type": "code",
      "metadata": {
        "id": "Pc9o11JR_4di",
        "colab_type": "code",
        "colab": {}
      },
      "source": [
        "data = {'marks': [55,21,63,88,74,54,95,41,84,52]}\n",
        "mark_boundaries =[30,40,50,60,70,80,90]"
      ],
      "execution_count": 0,
      "outputs": []
    },
    {
      "cell_type": "markdown",
      "metadata": {
        "id": "2rTBOrf_STLO",
        "colab_type": "text"
      },
      "source": [
        "**Numeric Data**"
      ]
    },
    {
      "cell_type": "code",
      "metadata": {
        "id": "EGL6Tjv9_zaW",
        "colab_type": "code",
        "colab": {}
      },
      "source": [
        "marks = tf.feature_column.numeric_column(key='marks')"
      ],
      "execution_count": 0,
      "outputs": []
    },
    {
      "cell_type": "code",
      "metadata": {
        "id": "lk_N23PzCmd8",
        "colab_type": "code",
        "colab": {}
      },
      "source": [
        "feature_layer = tf.keras.layers.DenseFeatures(marks)"
      ],
      "execution_count": 0,
      "outputs": []
    },
    {
      "cell_type": "code",
      "metadata": {
        "id": "KwxElXFASKsk",
        "colab_type": "code",
        "colab": {
          "base_uri": "https://localhost:8080/",
          "height": 201
        },
        "outputId": "68481d76-4ac4-486a-f5ab-4e829bc9075d"
      },
      "source": [
        "print(feature_layer(data).numpy())"
      ],
      "execution_count": 130,
      "outputs": [
        {
          "output_type": "stream",
          "text": [
            "[[55.]\n",
            " [21.]\n",
            " [63.]\n",
            " [88.]\n",
            " [74.]\n",
            " [54.]\n",
            " [95.]\n",
            " [41.]\n",
            " [84.]\n",
            " [52.]]\n"
          ],
          "name": "stdout"
        }
      ]
    },
    {
      "cell_type": "markdown",
      "metadata": {
        "id": "dUP4U-4SSYdp",
        "colab_type": "text"
      },
      "source": [
        "**Bucketized columns**"
      ]
    },
    {
      "cell_type": "code",
      "metadata": {
        "id": "slwCRwx8CuLZ",
        "colab_type": "code",
        "colab": {}
      },
      "source": [
        "marks_buckets = tf.feature_column.bucketized_column(marks, boundaries=mark_boundaries)\n",
        "# demo(marks_buckets)"
      ],
      "execution_count": 0,
      "outputs": []
    },
    {
      "cell_type": "code",
      "metadata": {
        "id": "qANRgzfoFp6n",
        "colab_type": "code",
        "colab": {
          "base_uri": "https://localhost:8080/",
          "height": 55
        },
        "outputId": "0f7f0b99-9249-4c13-a665-f88b7d8156a7"
      },
      "source": [
        "tf.print(input_buckets)"
      ],
      "execution_count": 93,
      "outputs": [
        {
          "output_type": "stream",
          "text": [
            "BucketizedColumn(source_column=NumericColumn(key='marks', shape=(1,), default_value=None, dtype=tf.float32, normalizer_fn=None), boundaries=(30, 40, 50, 60, 70, 80, 90))\n"
          ],
          "name": "stdout"
        }
      ]
    },
    {
      "cell_type": "code",
      "metadata": {
        "id": "tCBxuhwxFzdz",
        "colab_type": "code",
        "colab": {}
      },
      "source": [
        "feature_layer = tf.keras.layers.DenseFeatures(marks_buckets)"
      ],
      "execution_count": 0,
      "outputs": []
    },
    {
      "cell_type": "code",
      "metadata": {
        "id": "eoygAzfsGAS7",
        "colab_type": "code",
        "colab": {
          "base_uri": "https://localhost:8080/",
          "height": 219
        },
        "outputId": "3cf59dec-3ad9-4053-bb9c-825f0d13091c"
      },
      "source": [
        "print(data)\n",
        "print(feature_layer(data).numpy())"
      ],
      "execution_count": 150,
      "outputs": [
        {
          "output_type": "stream",
          "text": [
            "{'marks': [55, 21, 63, 88, 74, 54, 95, 41, 84, 52]}\n",
            "[[0. 0. 0. 1. 0. 0. 0. 0.]\n",
            " [1. 0. 0. 0. 0. 0. 0. 0.]\n",
            " [0. 0. 0. 0. 1. 0. 0. 0.]\n",
            " [0. 0. 0. 0. 0. 0. 1. 0.]\n",
            " [0. 0. 0. 0. 0. 1. 0. 0.]\n",
            " [0. 0. 0. 1. 0. 0. 0. 0.]\n",
            " [0. 0. 0. 0. 0. 0. 0. 1.]\n",
            " [0. 0. 1. 0. 0. 0. 0. 0.]\n",
            " [0. 0. 0. 0. 0. 0. 1. 0.]\n",
            " [0. 0. 0. 1. 0. 0. 0. 0.]]\n"
          ],
          "name": "stdout"
        }
      ]
    },
    {
      "cell_type": "code",
      "metadata": {
        "id": "KRFBrwo-QRKQ",
        "colab_type": "code",
        "colab": {}
      },
      "source": [
        "grade_data = {'grade': ['average','poor','average','good','good','average','good','average','good','average']}"
      ],
      "execution_count": 0,
      "outputs": []
    },
    {
      "cell_type": "code",
      "metadata": {
        "id": "lkPkAnEJQgIQ",
        "colab_type": "code",
        "colab": {}
      },
      "source": [
        "grade = tf.feature_column.categorical_column_with_vocabulary_list(\n",
        "      'grade', ['poor', 'average', 'good'])"
      ],
      "execution_count": 0,
      "outputs": []
    },
    {
      "cell_type": "code",
      "metadata": {
        "id": "RpnFyo5RQ6G1",
        "colab_type": "code",
        "colab": {}
      },
      "source": [
        "grade_one_hot = tf.feature_column.indicator_column(grade)"
      ],
      "execution_count": 0,
      "outputs": []
    },
    {
      "cell_type": "code",
      "metadata": {
        "id": "HaLAnnMQRF4N",
        "colab_type": "code",
        "colab": {}
      },
      "source": [
        "feature_layer = tf.keras.layers.DenseFeatures(grade_one_hot)"
      ],
      "execution_count": 0,
      "outputs": []
    },
    {
      "cell_type": "code",
      "metadata": {
        "id": "D5MmNRvTROsb",
        "colab_type": "code",
        "colab": {
          "base_uri": "https://localhost:8080/",
          "height": 331
        },
        "outputId": "48d89726-def2-4679-95ad-8bee60e153cc"
      },
      "source": [
        "print(feature_layer(grade_data).numpy())"
      ],
      "execution_count": 127,
      "outputs": [
        {
          "output_type": "stream",
          "text": [
            "WARNING:tensorflow:From /tensorflow-2.1.0/python3.6/tensorflow_core/python/feature_column/feature_column_v2.py:4267: IndicatorColumn._variable_shape (from tensorflow.python.feature_column.feature_column_v2) is deprecated and will be removed in a future version.\n",
            "Instructions for updating:\n",
            "The old _FeatureColumn APIs are being deprecated. Please use the new FeatureColumn APIs instead.\n",
            "WARNING:tensorflow:From /tensorflow-2.1.0/python3.6/tensorflow_core/python/feature_column/feature_column_v2.py:4322: VocabularyListCategoricalColumn._num_buckets (from tensorflow.python.feature_column.feature_column_v2) is deprecated and will be removed in a future version.\n",
            "Instructions for updating:\n",
            "The old _FeatureColumn APIs are being deprecated. Please use the new FeatureColumn APIs instead.\n",
            "[[0. 1. 0.]\n",
            " [1. 0. 0.]\n",
            " [0. 1. 0.]\n",
            " [0. 0. 1.]\n",
            " [0. 0. 1.]\n",
            " [0. 1. 0.]\n",
            " [0. 0. 1.]\n",
            " [0. 1. 0.]\n",
            " [0. 0. 1.]\n",
            " [0. 1. 0.]]\n"
          ],
          "name": "stdout"
        }
      ]
    },
    {
      "cell_type": "markdown",
      "metadata": {
        "id": "amONZYy3aVR7",
        "colab_type": "text"
      },
      "source": [
        "**Embedding columns**"
      ]
    },
    {
      "cell_type": "code",
      "metadata": {
        "id": "0FlP-uVdRbMs",
        "colab_type": "code",
        "colab": {}
      },
      "source": [
        "data_point = {'point': ['c','f','c+','b+','b','c','a','d+','b+','c']}"
      ],
      "execution_count": 0,
      "outputs": []
    },
    {
      "cell_type": "code",
      "metadata": {
        "id": "4wUgSGNDcLws",
        "colab_type": "code",
        "colab": {}
      },
      "source": [
        "df = pd.DataFrame(data_point)\n"
      ],
      "execution_count": 0,
      "outputs": []
    },
    {
      "cell_type": "code",
      "metadata": {
        "id": "R1LnGVP3annj",
        "colab_type": "code",
        "colab": {}
      },
      "source": [
        "point = tf.feature_column.categorical_column_with_vocabulary_list(\n",
        "      'point', df['point'].unique())\n",
        "\n",
        "point_embedding = tf.feature_column.embedding_column(point,dimension=4)"
      ],
      "execution_count": 0,
      "outputs": []
    },
    {
      "cell_type": "code",
      "metadata": {
        "id": "nPt1j5vOcUh5",
        "colab_type": "code",
        "colab": {
          "base_uri": "https://localhost:8080/",
          "height": 201
        },
        "outputId": "5e0d544d-3dd6-4475-9619-cd976d209ac3"
      },
      "source": [
        "feature_layer = tf.keras.layers.DenseFeatures(point_embedding)\n",
        "print(feature_layer(data_point).numpy())"
      ],
      "execution_count": 141,
      "outputs": [
        {
          "output_type": "stream",
          "text": [
            "[[-0.5506101   0.77287585  0.191822   -0.43982893]\n",
            " [ 0.70276004  0.18992953  0.18149893 -0.2749475 ]\n",
            " [ 0.02970489 -0.25479472  0.17840278  0.594821  ]\n",
            " [ 0.1777171   0.05057557 -0.08051997  0.00889664]\n",
            " [-0.5663202  -0.53726435 -0.08880581  0.30030224]\n",
            " [-0.5506101   0.77287585  0.191822   -0.43982893]\n",
            " [ 0.16444746 -0.72300017  0.6914677  -0.3649164 ]\n",
            " [ 0.62651634 -0.324936   -0.2612484   0.02435946]\n",
            " [ 0.1777171   0.05057557 -0.08051997  0.00889664]\n",
            " [-0.5506101   0.77287585  0.191822   -0.43982893]]\n"
          ],
          "name": "stdout"
        }
      ]
    },
    {
      "cell_type": "code",
      "metadata": {
        "id": "skYq7nqfd_uJ",
        "colab_type": "code",
        "colab": {}
      },
      "source": [
        "point_hashed = tf.feature_column.categorical_column_with_hash_bucket(\n",
        "      'point', hash_bucket_size=4)\n"
      ],
      "execution_count": 0,
      "outputs": []
    },
    {
      "cell_type": "code",
      "metadata": {
        "id": "LOEIAYq2eEPp",
        "colab_type": "code",
        "colab": {}
      },
      "source": [
        "point_hash = tf.feature_column.indicator_column(point_hashed)"
      ],
      "execution_count": 0,
      "outputs": []
    },
    {
      "cell_type": "code",
      "metadata": {
        "id": "8KzNfH1AeUyP",
        "colab_type": "code",
        "colab": {
          "base_uri": "https://localhost:8080/",
          "height": 276
        },
        "outputId": "571976e8-5491-4b00-a1d4-d2c40c3b1f64"
      },
      "source": [
        "feature_layer = tf.keras.layers.DenseFeatures(point_hash)\n",
        "print(feature_layer(data_point).numpy())"
      ],
      "execution_count": 145,
      "outputs": [
        {
          "output_type": "stream",
          "text": [
            "WARNING:tensorflow:From /tensorflow-2.1.0/python3.6/tensorflow_core/python/feature_column/feature_column_v2.py:4322: HashedCategoricalColumn._num_buckets (from tensorflow.python.feature_column.feature_column_v2) is deprecated and will be removed in a future version.\n",
            "Instructions for updating:\n",
            "The old _FeatureColumn APIs are being deprecated. Please use the new FeatureColumn APIs instead.\n",
            "[[1. 0. 0. 0.]\n",
            " [1. 0. 0. 0.]\n",
            " [0. 1. 0. 0.]\n",
            " [0. 0. 0. 1.]\n",
            " [0. 0. 1. 0.]\n",
            " [1. 0. 0. 0.]\n",
            " [0. 0. 0. 1.]\n",
            " [1. 0. 0. 0.]\n",
            " [0. 0. 0. 1.]\n",
            " [1. 0. 0. 0.]]\n"
          ],
          "name": "stdout"
        }
      ]
    },
    {
      "cell_type": "markdown",
      "metadata": {
        "id": "ED5uK-txfL7w",
        "colab_type": "text"
      },
      "source": [
        "**Crossed Features**"
      ]
    },
    {
      "cell_type": "code",
      "metadata": {
        "id": "mg-D3NBrgyp_",
        "colab_type": "code",
        "colab": {}
      },
      "source": [
        "data_cross = {'marks': [55,21,63,88,74,54,95,41,84,52],\n",
        "        'grade': ['average','poor','average','good','good','average','good','average','good','average']}"
      ],
      "execution_count": 0,
      "outputs": []
    },
    {
      "cell_type": "code",
      "metadata": {
        "id": "Hwy2gD4-fPHx",
        "colab_type": "code",
        "colab": {}
      },
      "source": [
        "crossed_feature = tf.feature_column.crossed_column([marks_buckets, grade], hash_bucket_size=10)\n"
      ],
      "execution_count": 0,
      "outputs": []
    },
    {
      "cell_type": "code",
      "metadata": {
        "id": "mL3tqaMOfiIj",
        "colab_type": "code",
        "colab": {}
      },
      "source": [
        "cross_hash = tf.feature_column.indicator_column(crossed_feature)"
      ],
      "execution_count": 0,
      "outputs": []
    },
    {
      "cell_type": "code",
      "metadata": {
        "id": "iSHilE8TfpR_",
        "colab_type": "code",
        "colab": {
          "base_uri": "https://localhost:8080/",
          "height": 276
        },
        "outputId": "fae2ef1f-f031-4b9e-a4f6-39250db489df"
      },
      "source": [
        "feature_layer = tf.keras.layers.DenseFeatures(cross_hash)\n",
        "print(feature_layer(data_cross).numpy())"
      ],
      "execution_count": 158,
      "outputs": [
        {
          "output_type": "stream",
          "text": [
            "WARNING:tensorflow:From /tensorflow-2.1.0/python3.6/tensorflow_core/python/feature_column/feature_column_v2.py:4322: CrossedColumn._num_buckets (from tensorflow.python.feature_column.feature_column_v2) is deprecated and will be removed in a future version.\n",
            "Instructions for updating:\n",
            "The old _FeatureColumn APIs are being deprecated. Please use the new FeatureColumn APIs instead.\n",
            "[[0. 0. 0. 0. 0. 0. 0. 0. 1. 0.]\n",
            " [0. 0. 0. 0. 1. 0. 0. 0. 0. 0.]\n",
            " [0. 0. 0. 0. 1. 0. 0. 0. 0. 0.]\n",
            " [0. 0. 0. 0. 1. 0. 0. 0. 0. 0.]\n",
            " [1. 0. 0. 0. 0. 0. 0. 0. 0. 0.]\n",
            " [0. 0. 0. 0. 0. 0. 0. 0. 1. 0.]\n",
            " [0. 0. 0. 0. 0. 1. 0. 0. 0. 0.]\n",
            " [0. 0. 0. 0. 0. 0. 1. 0. 0. 0.]\n",
            " [0. 0. 0. 0. 1. 0. 0. 0. 0. 0.]\n",
            " [0. 0. 0. 0. 0. 0. 0. 0. 1. 0.]]\n"
          ],
          "name": "stdout"
        }
      ]
    }
  ]
}