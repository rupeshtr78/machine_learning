{
 "cells": [
  {
   "cell_type": "markdown",
   "metadata": {
    "colab_type": "text",
    "id": "tPfCnnDViYRc"
   },
   "source": [
    "Link"
   ]
  },
  {
   "cell_type": "code",
   "execution_count": 531,
   "metadata": {
    "colab": {
     "base_uri": "https://localhost:8080/",
     "height": 35
    },
    "colab_type": "code",
    "id": "-6imye47bAKv",
    "outputId": "0e9518e0-cf51-4c60-c440-94212a183800"
   },
   "outputs": [
    {
     "name": "stdout",
     "output_type": "stream",
     "text": [
      "Once deleted, variables cannot be recovered. Proceed (y/[n])? y\n"
     ]
    }
   ],
   "source": [
    "%reset"
   ]
  },
  {
   "cell_type": "markdown",
   "metadata": {
    "colab_type": "text",
    "id": "DuP2QMOXPitS"
   },
   "source": [
    "# Perceptron\n"
   ]
  },
  {
   "cell_type": "markdown",
   "metadata": {
    "colab_type": "text",
    "id": "tw7AI5vgh3qW"
   },
   "source": [
    "### Basic Perceptron\n",
    "\n"
   ]
  },
  {
   "cell_type": "markdown",
   "metadata": {
    "colab_type": "text",
    "id": "TFFWeVrQiocx"
   },
   "source": [
    "![alt text](data/Single-Perceptron.png)"
   ]
  },
  {
   "cell_type": "markdown",
   "metadata": {
    "colab_type": "text",
    "id": "AkkGtb1Fi1c3"
   },
   "source": [
    "In a perceptron, we have n binary inputs (usually given as a vector) and exactly the equal number of weights vectors.   \n",
    "We multiply these together and sum them up. before calling the activation function (Step , Sigmoid etc)\n",
    "\n",
    "$z = \\sum_{i=1}^n W_ix_i$ = $\\sum_{i=1}^n W^Tx$  \n",
    "There is another value, called the bias, is usually a constant factor. \n",
    "\n",
    "$z = \\sum_{i=1}^n W_ix_i$ +b = $\\sum_{i=1}^n W^Tx$ + b\n",
    "\n",
    "For mathematical convenience, we can actually incorporate it into our weight vector as $W_{0}$\n",
    "and set for all of our inputs $x_{0}$ = +1.  \n",
    "\n",
    "After taking the weighted sum, we apply an activation function **$\\sigma$ to this and produce an activation result.   \n",
    "The activation function for perceptrons is sometimes called a step function because, if we were to plot it, it would look like a steps.\n",
    "\n",
    "\n"
   ]
  },
  {
   "cell_type": "markdown",
   "metadata": {
    "colab_type": "text",
    "id": "YEdqPZKHqIzz"
   },
   "source": [
    "\n",
    "  \\begin{equation}\n",
    "   \\sigma_n = \n",
    "  \\begin{cases}\n",
    "     1 & \\text{q >= 0}\\\\\n",
    "     0 & \\text{q < 0}\n",
    "  \\end{cases}\n",
    "  \\end{equation}\n"
   ]
  },
  {
   "cell_type": "markdown",
   "metadata": {
    "colab_type": "text",
    "id": "TEhSO5hgsCzB"
   },
   "source": [
    "Same as saying if the input is greater than or equal to 0, then we produce an output of 1.\n",
    "Otherwise, we produce an output of 0. This is the mathematical model for a single neuron, This is the basic and fundamental unit for a neural networks\n",
    "\n",
    "\n",
    "$a = \\sigma$ ($W^Tx$)\n",
    "\n",
    "\n",
    "-- If the perceptron **fires** when it shouldn't have, supress it.   \n",
    "- If the perceptron doesn't fire when it should have, excite it.  \n",
    "\n",
    "How do we supress or excite? By changing weight vector (and bias)!   \n",
    "The weight vector is a parameter to the perceptron: we iterate over it until we can correctly classify each of our inputs.   \n",
    "Based on this requirement write an update rule for our weight\n",
    "vector so that we can appropriately change it:  \n",
    "\n",
    "$W \\leftarrow$ W + $\\Delta$W  \n",
    "\n",
    "We have to determine a good $\\Delta$W that obtaines the result what we expect.  \n",
    "First, we can define the error as the difference between the desired output d and the predicted output expected y.\n",
    "\n",
    "$e$ = $d$ - $y$  \n",
    "\n",
    "- $e$ error\n",
    "- $d$ desired output (actuals / labels) \n",
    "- $y$ predicted output \n",
    "\n",
    "When $d$ and $y$ are the same (both are 0 or both are 1), result = $0$  \n",
    "When they are different, (0 and 1 or 1 and 0), result can be 1 or -1.  \n",
    "\n",
    "We multiply error $e$ with the input to tell our perceptron to change our\n",
    "weight vector in proportion to our input\n",
    "\n",
    "$W \\leftarrow$ W + $\\eta$ $.$ $e$ $.$ $x$  \n",
    "\n",
    "When the error is 0, i.e., the output is what we expect, then we don't change the weight vector at all.  \n",
    "When the error is nonzero, we update the weight vector accordingly  \n",
    "\n",
    "This is a hyperparameter $\\eta$ that is called the **learning rate**.  \n",
    "It is just a scaling factor that determines how large the weight vector updates should be.   \n",
    "This is a hyperparameter because it is not learned by the perceptron but we tune this parameter.  \n",
    "\n",
    "We need to keep iterating through our training data until tje desired result;  \n",
    "One epoch is when our perceptron has seen all of the training\n",
    "data once. Usually, we run our learning algorithm for multiple epochs\n",
    "\n",
    "$Fit$\n",
    "\n",
    "Create a function, given inputs and desired outputs,  \n",
    "- Run the perceptron learning algorithm.   \n",
    "- Keep updating the weights for a number of epochs, and iterate through\n",
    "the entire training set.  \n",
    "- Insert the bias into the input when performing the weight update.  \n",
    "- Create prediction, compute error, and perform update rule"
   ]
  },
  {
   "cell_type": "code",
   "execution_count": 0,
   "metadata": {
    "colab": {},
    "colab_type": "code",
    "id": "iacanV04wMev"
   },
   "outputs": [],
   "source": [
    "import numpy as np\n",
    "\n",
    "class Perceptron:\n",
    "  def __init__(self,input_size ,weights = None, learn_rate=1 , epoch=10 ):\n",
    "    # self.weights = np.ones(input_size + 1)\n",
    "    if weights == None:\n",
    "      self.weights = np.random.random((input_size + 1))\n",
    "    else:\n",
    "      self.weights = np.array(weights)\n",
    "    self.epoch = epoch\n",
    "    self.learn_rate = learn_rate\n",
    "\n",
    "\n",
    "\n",
    "  def activation_fn(self, x):\n",
    "    return 0 if x <= 0 else 1\n",
    "\n",
    "# function to run an input through the perceptron and return an output.\n",
    "# called the prediction. \n",
    "# We add the bias into the input vector.  x = np.insert(x,0,1)\n",
    "# compute the inner product and apply the activation function.\n",
    "\n",
    "  def predict(self,input_data):\n",
    "    input_data = np.insert(input_data ,0 ,1)\n",
    "    weighted_input = self.weights.T.dot(input_data)\n",
    "    weighted_sum   = weighted_input.sum()\n",
    "    activation     = self.activation_fn(weighted_sum)\n",
    "    # print(input_data,weighted_input,weighted_sum,activation)\n",
    "    return activation\n",
    "\n",
    "# Create a function to keep applying this update rule\n",
    "# until our perceptron can correctly classify all of our input X to lables d\n",
    "\n",
    "  def fit(self,X_train ,y_actual):\n",
    "    for _ in range(self.epoch):\n",
    "      for i in range(y_actual.shape[0]):\n",
    "        y_pred = self.predict(X_train[i])\n",
    "        error = y_actual[i] - y_pred\n",
    "        # print(error)\n",
    "        self.weights = self.weights + self.learn_rate * error * np.insert(X_train[i] ,0,1)\n",
    "        # print(self.weights)\n",
    "        \n"
   ]
  },
  {
   "cell_type": "code",
   "execution_count": 0,
   "metadata": {
    "colab": {},
    "colab_type": "code",
    "id": "RdHQv9KDyY9C"
   },
   "outputs": [],
   "source": [
    "X = np.array([\n",
    "        [0, 0],\n",
    "        [0, 1],\n",
    "        [1, 0],\n",
    "        [1, 1]\n",
    "    ])\n",
    "    \n",
    "    \n",
    "d = np.array([0, 0, 0, 1])\n",
    "\n"
   ]
  },
  {
   "cell_type": "markdown",
   "metadata": {
    "colab_type": "text",
    "id": "y9LmVW_-AmuR"
   },
   "source": [
    "[-3, 2, 1]. \n",
    "This means that the bias is -3 and \n",
    "The weights are 2 and 1 for x1 and x2 respectively.\n",
    "- -3+ 0x2 + 0x1 = -3  for first row 0,0  When applying our activation function, we get 0, which is exactly 0 AND 0! \n",
    "- -3+ 1x2+ 1x1 = 0    for last  row 1,1  When applying our activation function, we get 1, which is exactly 1 AND 1! \n",
    "\n",
    "There exist an infinite number of weight vectors. Which weight vector\n",
    "we get depends on how we initialize the weight vector."
   ]
  },
  {
   "cell_type": "code",
   "execution_count": 540,
   "metadata": {
    "colab": {
     "base_uri": "https://localhost:8080/",
     "height": 35
    },
    "colab_type": "code",
    "id": "00EJz0d98S7y",
    "outputId": "32369df0-be66-43ce-a907-43d6a6f5f841"
   },
   "outputs": [
    {
     "name": "stdout",
     "output_type": "stream",
     "text": [
      "Weights [-3.18976039  2.81209617  1.35642125]\n"
     ]
    }
   ],
   "source": [
    "perceptron = Perceptron(2)\n",
    "perceptron.fit(X, d)\n",
    "print('Weights',perceptron.weights)\n",
    "\n",
    "# [-3, 2, 1]. \n",
    "# This means that the bias is -3 and \n",
    "# The weights are 2 and 1 for x1 and x2 respectively.\n",
    "# -3 + 0*2+ 0*1 = -3   for first row 0,0  When applying our activation function, we get 0, which is exactly 0 AND 0! \n",
    "# -3 + 1*2+ 1*1 =  0   for last  row 1,1  When applying our activation function, we get 1, which is exactly 1 AND 1! \n",
    "\n",
    "\n"
   ]
  },
  {
   "cell_type": "code",
   "execution_count": 541,
   "metadata": {
    "colab": {
     "base_uri": "https://localhost:8080/",
     "height": 164
    },
    "colab_type": "code",
    "id": "IcjicMzAAax0",
    "outputId": "ead92a95-d81d-4d1f-e0cb-ba8649247cd4"
   },
   "outputs": [
    {
     "name": "stdout",
     "output_type": "stream",
     "text": [
      "+-------+---------+------------+\n",
      "|   X   | Actuals | Prediction |\n",
      "+-------+---------+------------+\n",
      "| [0 0] |    0    |     0      |\n",
      "| [0 1] |    0    |     0      |\n",
      "| [1 0] |    0    |     0      |\n",
      "| [1 1] |    1    |     1      |\n",
      "+-------+---------+------------+\n"
     ]
    }
   ],
   "source": [
    "from prettytable import PrettyTable\n",
    "t = PrettyTable(['X','Actuals','Prediction'])\n",
    "\n",
    "\n",
    "for i in range(d.shape[0]):\n",
    "  y = perceptron.predict(X[i])\n",
    "  # print(X[i],d[i],y,perceptron.error)\n",
    "  t.add_row([X[i],d[i],y])\n",
    "\n",
    "print(t)"
   ]
  },
  {
   "cell_type": "markdown",
   "metadata": {
    "colab_type": "text",
    "id": "o93bGlO_GAnD"
   },
   "source": [
    "Perceptron with Sigmoid Activation Function"
   ]
  },
  {
   "cell_type": "code",
   "execution_count": 0,
   "metadata": {
    "colab": {},
    "colab_type": "code",
    "id": "FGaEDtrz89Yo"
   },
   "outputs": [],
   "source": [
    "import numpy as np\n",
    "\n",
    "class PerceptronSigmoid:\n",
    "  def __init__(self,input_size ,weights = None, learn_rate=1 , epoch=10 ):\n",
    "    # self.weights = np.ones(input_size + 1)\n",
    "    if weights == None:\n",
    "      self.weights = np.random.random((input_size + 1))\n",
    "    else:\n",
    "      self.weights = np.array(weights)\n",
    "    self.epoch = epoch\n",
    "    self.learn_rate = learn_rate\n",
    "\n",
    "  def sigmoid_activation_fn(self, x):  # Sigmoid Activation Fn\n",
    "    return 1 / (1 + np.exp(-x))\n",
    "\n",
    "\n",
    "  def predict(self,input_data):\n",
    "    input_data = np.insert(input_data ,0 ,1)\n",
    "    weighted_input = self.weights.T.dot(input_data)\n",
    "    weighted_sum   = weighted_input.sum()\n",
    "    activation     = self.sigmoid_activation_fn(weighted_sum)\n",
    "    # print(input_data,weighted_input,weighted_sum,activation)\n",
    "    return activation\n",
    "\n",
    "\n",
    "  def fit(self,X_train ,y_actual):\n",
    "    for _ in range(self.epoch):\n",
    "      for i in range(y_actual.shape[0]):\n",
    "        y_pred = self.predict(X_train[i])\n",
    "        error = y_actual[i] - y_pred\n",
    "        # print(error)\n",
    "        self.weights = self.weights + self.learn_rate * error * np.insert(X_train[i] ,0,1)\n",
    "        # print(self.weights)\n",
    "\n",
    "\n",
    ", 0, 1)\n"
   ]
  },
  {
   "cell_type": "code",
   "execution_count": 576,
   "metadata": {
    "colab": {
     "base_uri": "https://localhost:8080/",
     "height": 109
    },
    "colab_type": "code",
    "id": "JcgWaiPHFLqL",
    "outputId": "75204567-7e8f-4608-cc63-a6b3c7c39a0b"
   },
   "outputs": [
    {
     "name": "stdout",
     "output_type": "stream",
     "text": [
      "[-5.6538344   4.33975107  3.90181266]\n",
      "0 0.0\n",
      "1 0.1\n",
      "2 0.2\n",
      "3 0.9\n"
     ]
    }
   ],
   "source": [
    "X_sig = np.array([\n",
    "        [0, 0],\n",
    "        [0, 1],\n",
    "        [1, 0],\n",
    "        [1, 1]\n",
    "    ])\n",
    "\n",
    "y_sig = np.array([0, 0, 0, 1])\n",
    "\n",
    "perceptron1 = PerceptronSigmoid(input_size=2,epoch=10 ,weights=[1,1,1],learn_rate=2)\n",
    "\n",
    "perceptron1.fit(X_sig, y_sig)\n",
    "print(perceptron1.weights)\n",
    "\n",
    "for i in range(d.shape[0]):\n",
    "  y = perceptron1.predict(X_sig[i])\n",
    "  print(X[i],round(y,1))"
   ]
  },
  {
   "cell_type": "markdown",
   "metadata": {
    "colab_type": "text",
    "id": "-UxdGTfuYmXW"
   },
   "source": [
    "**Decision Boundary**"
   ]
  },
  {
   "cell_type": "code",
   "execution_count": 0,
   "metadata": {
    "colab": {},
    "colab_type": "code",
    "id": "YWCcRGU4GkxD"
   },
   "outputs": [],
   "source": [
    "import numpy as np\n",
    "import matplotlib.pyplot as plt\n",
    "\n",
    "def points_within_circle(radius, \n",
    "                         center=(0, 0),\n",
    "                         number_of_points=100):\n",
    "    center_x, center_y = center\n",
    "    r = radius * np.sqrt(np.random.random((number_of_points,)))\n",
    "    theta = np.random.random((number_of_points,)) * 2 * np.pi\n",
    "    x = center_x + r * np.cos(theta)\n",
    "    y = center_y + r * np.sin(theta)\n",
    "    return x, y\n",
    "\n",
    "X = np.arange(0, 8)\n",
    "\n",
    "oranges_x, oranges_y = points_within_circle(1.6, (5, 2), 100)\n",
    "lemons_x, lemons_y = points_within_circle(1.9, (2, 5), 100)\n"
   ]
  },
  {
   "cell_type": "code",
   "execution_count": 543,
   "metadata": {
    "colab": {
     "base_uri": "https://localhost:8080/",
     "height": 265
    },
    "colab_type": "code",
    "id": "bs3BGR4OQrv-",
    "outputId": "c95def52-8018-495a-9671-ed6a4d1b689e"
   },
   "outputs": [
    {
     "data": {
      "image/png": "[encoded data removed]",
      "text/plain": [
       "<Figure size 432x288 with 1 Axes>"
      ]
     },
     "metadata": {
      "tags": []
     },
     "output_type": "display_data"
    }
   ],
   "source": [
    "import time\n",
    "import matplotlib.pyplot as plt\n",
    "from itertools import repeat\n",
    "from random import shuffle\n",
    "\n",
    "\n",
    "X = np.arange(0, 10)\n",
    "fig, ax = plt.subplots()\n",
    "ax.scatter(oranges_x, oranges_y, c=\"orange\", label=\"oranges\")\n",
    "ax.scatter(lemons_x, lemons_y, c=\"y\", label=\"lemons\")\n",
    "\n",
    "\n",
    "plt.show()"
   ]
  },
  {
   "cell_type": "code",
   "execution_count": 0,
   "metadata": {
    "colab": {},
    "colab_type": "code",
    "id": "DdFNaCB5an39"
   },
   "outputs": [],
   "source": [
    "fruits = list(zip(oranges_x, oranges_y, repeat(0, len(oranges_x)))) \n",
    "fruits += list(zip(lemons_x, lemons_y, repeat(1, len(oranges_x))))\n",
    "shuffle(fruits)\n",
    "\n",
    "X_t_comprehension = [xpoint[0] for xpoint in fruits]\n",
    "y_t_comprehension = [xpoint[1] for xpoint in fruits]\n",
    "d_t_comprehension = [xpoint[2] for xpoint in fruits]\n",
    "\n",
    "X_train_list = list(zip(X_t_comprehension,y_t_comprehension))\n",
    "\n",
    "X_train_np = np.array(X_train_list)\n",
    "y_train_np = np.array(d_t_comprehension)\n"
   ]
  },
  {
   "cell_type": "code",
   "execution_count": 0,
   "metadata": {
    "colab": {},
    "colab_type": "code",
    "id": "yc_0BU4gslQB"
   },
   "outputs": [],
   "source": [
    "from sklearn.model_selection import train_test_split\n",
    "\n",
    "X_train, X_test, y_train, y_test = train_test_split(X_train_np, y_train_np, \n",
    "                       train_size=0.8,\n",
    "                       test_size=0.2,\n",
    "                       random_state=42 # garantees same output for every run\n",
    "                      )"
   ]
  },
  {
   "cell_type": "code",
   "execution_count": 560,
   "metadata": {
    "colab": {
     "base_uri": "https://localhost:8080/",
     "height": 35
    },
    "colab_type": "code",
    "id": "80mCRhsaPlK3",
    "outputId": "ae7dc641-827f-4d32-9f6d-d583563d553d"
   },
   "outputs": [
    {
     "name": "stdout",
     "output_type": "stream",
     "text": [
      "Weights [-0.46054799 -3.41297872  3.20823939]\n"
     ]
    }
   ],
   "source": [
    "p_c = Perceptron(2,learn_rate=0.5 ,epoch=10)\n",
    "\n",
    "p_c.fit(X_train, y_train)\n",
    "\n",
    "print('Weights',p_c.weights)\n",
    "\n"
   ]
  },
  {
   "cell_type": "markdown",
   "metadata": {
    "colab_type": "text",
    "id": "FimWdFJunJ9V"
   },
   "source": [
    "We multiplied the input values with the weights and got negative and positive values.   \n",
    "Examine what we get, if we calculation results in 0:  \n",
    "\n",
    "$x_1w_1$ + $x_2w_2$ = 0\n",
    "\n",
    "We can change this equation into  \n",
    "\n",
    "$x_2$  = $\\frac{w_1}{w_2}x_1$\n",
    "\n",
    "\n",
    "When we look at the general form of a straight line $y = mx+b$ \n",
    "\n",
    "We can easily see that our equation corresponds to the definition of a line and the  \n",
    "slope (aka gradient) $m$ =  $-\\frac{w_1}{w_2}$   \n",
    "and $b$ intercept is equal to 0.\n",
    "\n",
    "This is the straight line separating the oranges and lemons, which is called the **decision boundary.**"
   ]
  },
  {
   "cell_type": "code",
   "execution_count": 561,
   "metadata": {
    "colab": {
     "base_uri": "https://localhost:8080/",
     "height": 302
    },
    "colab_type": "code",
    "id": "Tu0XXBpYQdXy",
    "outputId": "b108052a-b342-4e88-bf4b-1c9e3b115807"
   },
   "outputs": [
    {
     "name": "stdout",
     "output_type": "stream",
     "text": [
      "[-0.46054799 -3.41297872  3.20823939]\n"
     ]
    },
    {
     "data": {
      "image/png": "[encoded data removed]",
      "text/plain": [
       "<Figure size 432x288 with 1 Axes>"
      ]
     },
     "metadata": {
      "tags": []
     },
     "output_type": "display_data"
    },
    {
     "name": "stdout",
     "output_type": "stream",
     "text": [
      "slope 1.063816725309497\n"
     ]
    }
   ],
   "source": [
    "import time\n",
    "import matplotlib.pyplot as plt\n",
    "# slope = 0.1\n",
    "\n",
    "bias = p_c.weights[0]\n",
    "w1 = p_c.weights[1]\n",
    "w2 = p_c.weights[2]\n",
    "m = -w1 / w2\n",
    "\n",
    "\n",
    "X = np.arange(0, 10)\n",
    "fig, ax = plt.subplots()\n",
    "ax.scatter(oranges_x, oranges_y, c=\"orange\", label=\"oranges\")\n",
    "ax.scatter(lemons_x, lemons_y, c=\"y\", label=\"lemons\")\n",
    "\n",
    "ax.plot(X, (m * X)+ bias )\n",
    "# ax.plot(X, (m * X) )\n",
    "\n",
    "print(p_c.weights)\n",
    "\n",
    "ax.grid()\n",
    "plt.show()\n",
    "\n",
    "print('slope' , m)\n",
    "\n"
   ]
  },
  {
   "cell_type": "markdown",
   "metadata": {
    "colab_type": "text",
    "id": "Zw7Qf2Gd070o"
   },
   "source": [
    "Evaluate Train Data"
   ]
  },
  {
   "cell_type": "code",
   "execution_count": 562,
   "metadata": {
    "colab": {
     "base_uri": "https://localhost:8080/",
     "height": 35
    },
    "colab_type": "code",
    "id": "DHwErJky09iT",
    "outputId": "9d49e443-548a-474f-a69b-4400be510b40"
   },
   "outputs": [
    {
     "data": {
      "text/plain": [
       "Counter({'correct': 160})"
      ]
     },
     "execution_count": 562,
     "metadata": {
      "tags": []
     },
     "output_type": "execute_result"
    }
   ],
   "source": [
    "from collections import Counter\n",
    "\n",
    "evaluation = Counter()\n",
    "for i in range(y_train.shape[0]):\n",
    "  y = p_c.predict(X_train[i])\n",
    "  # print(p_c.weights)\n",
    "  # print(X_train[i],y_train[i],y,p_c.error)\n",
    "  if  y == y_train[i]:\n",
    "    evaluation[\"correct\"] += 1\n",
    "  else:\n",
    "    evaluation[\"wrong\"] += 1\n",
    "\n",
    "evaluation"
   ]
  },
  {
   "cell_type": "markdown",
   "metadata": {
    "colab_type": "text",
    "id": "E5KCCPDCu8Us"
   },
   "source": [
    "Evaluate Test Data"
   ]
  },
  {
   "cell_type": "code",
   "execution_count": 563,
   "metadata": {
    "colab": {
     "base_uri": "https://localhost:8080/",
     "height": 35
    },
    "colab_type": "code",
    "id": "rRQjA7HFu_HG",
    "outputId": "5ec3cfbe-6152-4c18-a955-94b97d09e2f9"
   },
   "outputs": [
    {
     "data": {
      "text/plain": [
       "Counter({'correct': 40})"
      ]
     },
     "execution_count": 563,
     "metadata": {
      "tags": []
     },
     "output_type": "execute_result"
    }
   ],
   "source": [
    "from collections import Counter\n",
    "\n",
    "evaluation = Counter()\n",
    "for i in range(y_test.shape[0]):\n",
    "  y = p_c.predict(X_test[i])\n",
    "  # print(p_c.weights)\n",
    "  # print(X_test[i],y_test[i],y,p_c.error)\n",
    "  if y_test[i] == y:\n",
    "    evaluation[\"correct\"] += 1\n",
    "  else:\n",
    "    evaluation[\"wrong\"] += 1\n",
    "\n",
    "evaluation"
   ]
  },
  {
   "cell_type": "markdown",
   "metadata": {},
   "source": [
    "## Use Sigmoid Activation "
   ]
  },
  {
   "cell_type": "code",
   "execution_count": 579,
   "metadata": {
    "colab": {
     "base_uri": "https://localhost:8080/",
     "height": 35
    },
    "colab_type": "code",
    "id": "-m8xGApCQcOi",
    "outputId": "290c001d-b38d-4d57-cf07-24fcdf63726f"
   },
   "outputs": [
    {
     "name": "stdout",
     "output_type": "stream",
     "text": [
      "Weights [-0.03024454 -3.19489336  3.39982318]\n"
     ]
    }
   ],
   "source": [
    "p_sig = PerceptronSigmoid(2,learn_rate=0.2)\n",
    "\n",
    "p_sig.fit(X_train, y_train)\n",
    "\n",
    "print('Weights',p_sig.weights)"
   ]
  },
  {
   "cell_type": "code",
   "execution_count": 580,
   "metadata": {
    "colab": {
     "base_uri": "https://localhost:8080/",
     "height": 302
    },
    "colab_type": "code",
    "id": "Rh6WwMq2pdaD",
    "outputId": "d041a0cf-36aa-4fd1-c7f5-897383fb6950"
   },
   "outputs": [
    {
     "name": "stdout",
     "output_type": "stream",
     "text": [
      "[-0.03024454 -3.19489336  3.39982318]\n"
     ]
    },
    {
     "data": {
      "image/png": "[encoded data removed]",
      "text/plain": [
       "<Figure size 432x288 with 1 Axes>"
      ]
     },
     "metadata": {
      "tags": []
     },
     "output_type": "display_data"
    },
    {
     "name": "stdout",
     "output_type": "stream",
     "text": [
      "slope 0.9397233889687291\n"
     ]
    }
   ],
   "source": [
    "import time\n",
    "import matplotlib.pyplot as plt\n",
    "# slope = 0.1\n",
    "\n",
    "bias = p_sig.weights[0]\n",
    "w1 = p_sig.weights[1]\n",
    "w2 = p_sig.weights[2]\n",
    "m = -w1 / w2\n",
    "\n",
    "\n",
    "X = np.arange(0, 10)\n",
    "fig, ax = plt.subplots()\n",
    "ax.scatter(oranges_x, oranges_y, c=\"orange\", label=\"oranges\")\n",
    "ax.scatter(lemons_x, lemons_y, c=\"y\", label=\"lemons\")\n",
    "\n",
    "ax.plot(X, (m * X)+ bias )\n",
    "\n",
    "print(p_sig.weights)\n",
    "\n",
    "ax.grid()\n",
    "plt.show()\n",
    "\n",
    "print('slope' ,m)"
   ]
  }
 ],
 "metadata": {
  "colab": {
   "collapsed_sections": [
    "zojUtz1ehiLv"
   ],
   "name": "Build Basic Perceptron Using Python.ipynb",
   "provenance": []
  },
  "kernelspec": {
   "display_name": "Python 3",
   "language": "python",
   "name": "python3"
  },
  "language_info": {
   "codemirror_mode": {
    "name": "ipython",
    "version": 3
   },
   "file_extension": ".py",
   "mimetype": "text/x-python",
   "name": "python",
   "nbconvert_exporter": "python",
   "pygments_lexer": "ipython3",
   "version": "3.6.10"
  }
 },
 "nbformat": 4,
 "nbformat_minor": 1
}
