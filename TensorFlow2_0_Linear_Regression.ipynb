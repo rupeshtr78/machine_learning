{
  "nbformat": 4,
  "nbformat_minor": 0,
  "metadata": {
    "colab": {
      "name": "TensorFlow2.0 Linear Regression.ipynb",
      "provenance": [],
      "collapsed_sections": []
    },
    "kernelspec": {
      "name": "python3",
      "display_name": "Python 3"
    }
  },
  "cells": [
    {
      "cell_type": "code",
      "metadata": {
        "id": "C3AZ4kUqzSdq",
        "colab_type": "code",
        "outputId": "f6e0f90d-b083-49c6-9765-5a6e975e32b3",
        "colab": {
          "base_uri": "https://localhost:8080/",
          "height": 36
        }
      },
      "source": [
        "%tensorflow_version 2.x"
      ],
      "execution_count": 1,
      "outputs": [
        {
          "output_type": "stream",
          "text": [
            "TensorFlow 2.x selected.\n"
          ],
          "name": "stdout"
        }
      ]
    },
    {
      "cell_type": "code",
      "metadata": {
        "id": "aut9nT9xzfnp",
        "colab_type": "code",
        "colab": {}
      },
      "source": [
        "import pandas as pd\n",
        "import numpy as np\n",
        "import tensorflow as tf\n",
        "from sklearn.model_selection import train_test_split\n",
        "import matplotlib.pyplot as plt "
      ],
      "execution_count": 0,
      "outputs": []
    },
    {
      "cell_type": "code",
      "metadata": {
        "id": "uFyN5KH5zm6i",
        "colab_type": "code",
        "outputId": "f790464f-dbc8-43b5-a447-6ac857b8e227",
        "colab": {
          "base_uri": "https://localhost:8080/",
          "height": 36
        }
      },
      "source": [
        "tf.version.VERSION"
      ],
      "execution_count": 3,
      "outputs": [
        {
          "output_type": "execute_result",
          "data": {
            "text/plain": [
              "'2.1.0'"
            ]
          },
          "metadata": {
            "tags": []
          },
          "execution_count": 3
        }
      ]
    },
    {
      "cell_type": "code",
      "metadata": {
        "id": "QJqiASrbSiZA",
        "colab_type": "code",
        "outputId": "029331a1-5b5d-4e38-a2c8-4444b644421b",
        "colab": {
          "base_uri": "https://localhost:8080/",
          "height": 36
        }
      },
      "source": [
        "true_w = 5\n",
        "true_b = 3\n",
        "num_features = 100\n",
        "\n",
        "X = np.arange(num_features)\n",
        "noise = np.random.uniform(0,100,100)\n",
        "y = true_w*X + true_b + noise\n",
        "\n",
        "\n",
        "X = tf.cast(X, tf.float32)\n",
        "y = tf.cast(y, tf.float32)\n",
        "\n",
        "X = tf.reshape(X , shape=[num_features,1])\n",
        "y = tf.reshape(y , shape=[num_features,1])\n",
        "\n",
        "\n",
        "y.shape"
      ],
      "execution_count": 111,
      "outputs": [
        {
          "output_type": "execute_result",
          "data": {
            "text/plain": [
              "TensorShape([100, 1])"
            ]
          },
          "metadata": {
            "tags": []
          },
          "execution_count": 111
        }
      ]
    },
    {
      "cell_type": "code",
      "metadata": {
        "id": "TYfjeAQ65WRQ",
        "colab_type": "code",
        "colab": {
          "base_uri": "https://localhost:8080/",
          "height": 148
        },
        "outputId": "9ce193ee-79b6-40b3-ed90-dc98e474a997"
      },
      "source": [
        "tf.print(y)"
      ],
      "execution_count": 170,
      "outputs": [
        {
          "output_type": "stream",
          "text": [
            "[[45.4043808]\n",
            " [57.5989418]\n",
            " [95.1545181]\n",
            " ...\n",
            " [570.795288]\n",
            " [574.990662]\n",
            " [509.411804]]\n"
          ],
          "name": "stdout"
        }
      ]
    },
    {
      "cell_type": "code",
      "metadata": {
        "id": "4DO9_9JY8ZGL",
        "colab_type": "code",
        "colab": {}
      },
      "source": [
        "X_norm = (X - np.mean(X))/np.std(X)\n",
        "y_norm = (y - np.mean(y))/np.std(y)"
      ],
      "execution_count": 0,
      "outputs": []
    },
    {
      "cell_type": "code",
      "metadata": {
        "id": "TXg4bm6jTFIj",
        "colab_type": "code",
        "outputId": "b1a6c269-07e2-43ee-ef60-22ef458d9da3",
        "colab": {
          "base_uri": "https://localhost:8080/",
          "height": 267
        }
      },
      "source": [
        "plt.scatter(X_norm,y_norm , c='b')\n",
        "plt.show()"
      ],
      "execution_count": 172,
      "outputs": [
        {
          "output_type": "display_data",
          "data": {
            "image/png": "[encoded data removed]",
            "text/plain": [
              "<Figure size 432x288 with 1 Axes>"
            ]
          },
          "metadata": {
            "tags": []
          }
        }
      ]
    },
    {
      "cell_type": "code",
      "metadata": {
        "id": "HeMlVamlpr0v",
        "colab_type": "code",
        "colab": {}
      },
      "source": [
        "ds_train_Xy = tf.data.Dataset.from_tensor_slices(\n",
        "    (tf.cast(X_norm, tf.float32),\n",
        "     tf.cast(y_norm, tf.float32)))"
      ],
      "execution_count": 0,
      "outputs": []
    },
    {
      "cell_type": "code",
      "metadata": {
        "id": "cfcXp8N6q9GB",
        "colab_type": "code",
        "colab": {}
      },
      "source": [
        "for i , batch in enumerate(ds_train_Xy):\n",
        "  tf.print(i,batch)"
      ],
      "execution_count": 0,
      "outputs": []
    },
    {
      "cell_type": "code",
      "metadata": {
        "id": "GZBQ46lfS0jA",
        "colab_type": "code",
        "colab": {}
      },
      "source": [
        "class MyModel(tf.keras.Model):\n",
        "    def __init__(self):\n",
        "        super(MyModel, self).__init__()\n",
        "        self.w = tf.Variable(1.0, name='weight')\n",
        "        self.b = tf.Variable(0.0, name='bias')\n",
        "\n",
        "    def call(self, x):\n",
        "        return self.w*x + self.b\n",
        "\n",
        "\n",
        "model = MyModel()\n",
        "\n",
        "\n",
        "\n",
        "\n",
        "\n"
      ],
      "execution_count": 0,
      "outputs": []
    },
    {
      "cell_type": "code",
      "metadata": {
        "id": "yfVvz7_UyrDf",
        "colab_type": "code",
        "colab": {
          "base_uri": "https://localhost:8080/",
          "height": 167
        },
        "outputId": "9895a10d-35c8-4c17-f9ec-7d851243867b"
      },
      "source": [
        "model.build(input_shape=(None, 1))\n",
        "model.summary()\n",
        "\n"
      ],
      "execution_count": 143,
      "outputs": [
        {
          "output_type": "stream",
          "text": [
            "Model: \"my_model_11\"\n",
            "_________________________________________________________________\n",
            "Layer (type)                 Output Shape              Param #   \n",
            "=================================================================\n",
            "Total params: 2\n",
            "Trainable params: 2\n",
            "Non-trainable params: 0\n",
            "_________________________________________________________________\n"
          ],
          "name": "stdout"
        }
      ]
    },
    {
      "cell_type": "code",
      "metadata": {
        "id": "nzJ-nBpPaw7q",
        "colab_type": "code",
        "colab": {
          "base_uri": "https://localhost:8080/",
          "height": 54
        },
        "outputId": "08f7b50c-f4fe-4cf6-bb44-5693b40f94af"
      },
      "source": [
        "def loss_fn(y_true, y_pred):\n",
        "    return tf.reduce_mean(tf.square(y_true - y_pred))\n",
        "\n",
        "\n",
        "## testing the function:\n",
        "yt = tf.convert_to_tensor([2.0])\n",
        "yp = tf.convert_to_tensor([1.5])\n",
        "\n",
        "tf.print(model(yt))\n",
        "loss_val_test = loss_fn(model(yt), yp)\n",
        "tf.print(loss_val_test)"
      ],
      "execution_count": 144,
      "outputs": [
        {
          "output_type": "stream",
          "text": [
            "[2]\n",
            "0.25\n"
          ],
          "name": "stdout"
        }
      ]
    },
    {
      "cell_type": "code",
      "metadata": {
        "id": "OoWsJYJxbJrd",
        "colab_type": "code",
        "colab": {}
      },
      "source": [
        "def train(model, inputs, outputs, learning_rate):\n",
        "    with tf.GradientTape() as tape:\n",
        "        current_loss = loss_fn(model(inputs), outputs)\n",
        "    dW, db = tape.gradient(current_loss, [model.w, model.b])\n",
        "    model.w.assign_sub(learning_rate * dW)\n",
        "    model.b.assign_sub(learning_rate * db)"
      ],
      "execution_count": 0,
      "outputs": []
    },
    {
      "cell_type": "code",
      "metadata": {
        "id": "xitwJrqR0Abc",
        "colab_type": "code",
        "colab": {}
      },
      "source": [
        "Ws1, bs1 = [], []\n",
        "\n",
        "for i, batch in enumerate(ds_train):\n",
        "    if i >= 100:\n",
        "      break\n",
        "    tf.print(i,batch)\n",
        "    Ws1.append(model.w.numpy())\n",
        "    bs1.append(model.b.numpy())  \n",
        "\n",
        "    "
      ],
      "execution_count": 0,
      "outputs": []
    },
    {
      "cell_type": "code",
      "metadata": {
        "id": "keJJasm201hF",
        "colab_type": "code",
        "colab": {}
      },
      "source": [
        "Ws1"
      ],
      "execution_count": 0,
      "outputs": []
    },
    {
      "cell_type": "code",
      "metadata": {
        "id": "vSYCU31LcN-r",
        "colab_type": "code",
        "colab": {}
      },
      "source": [
        "tf.random.set_seed(1)\n",
        "\n",
        "num_epochs = 20\n",
        "log_steps = 100\n",
        "learning_rate = 0.01\n",
        "batch_size = 1\n",
        "steps_per_epoch = int(np.ceil(num_features / batch_size))\n",
        "\n",
        "\n",
        "ds_train = ds_train_Xy.shuffle(buffer_size=num_features)\n",
        "ds_train = ds_train.repeat(count=None)\n",
        "ds_train = ds_train.batch(1)\n",
        "\n",
        "Ws, bs = [], []\n",
        "\n",
        "for i, batch in enumerate(ds_train):\n",
        "    if i >= steps_per_epoch * num_epochs:\n",
        "      break\n",
        "    Ws.append(model.w.numpy())\n",
        "    bs.append(model.b.numpy())\n",
        "\n",
        "    bx, by = batch\n",
        "    loss_val = loss_fn(model(bx), by)\n",
        "\n",
        "    train(model, bx, by, learning_rate=learning_rate)\n",
        "    if i%log_steps ==0:\n",
        "      # print(i%log_steps)\n",
        "      print('Epoch {:4d} Step {:2d} Loss {:6.4f}'.format(\n",
        "              int(i/steps_per_epoch), i, loss_val))\n",
        "  \n"
      ],
      "execution_count": 0,
      "outputs": []
    },
    {
      "cell_type": "code",
      "metadata": {
        "id": "qfwy8gXgAXZ4",
        "colab_type": "code",
        "colab": {
          "base_uri": "https://localhost:8080/",
          "height": 36
        },
        "outputId": "5b9f0814-e553-48c3-b7ed-a6f0a253afcf"
      },
      "source": [
        "print('Final Normalized Parameters:', model.w.numpy(), model.b.numpy())"
      ],
      "execution_count": 200,
      "outputs": [
        {
          "output_type": "stream",
          "text": [
            "Final Normalized Parameters: 0.980261 0.0039078486\n"
          ],
          "name": "stdout"
        }
      ]
    },
    {
      "cell_type": "code",
      "metadata": {
        "id": "gBqQohp3vB1x",
        "colab_type": "code",
        "colab": {}
      },
      "source": [
        "tf.random.set_seed(1)\n",
        "model = MyModel()\n",
        "model.build((None, 1))\n",
        "\n",
        "model.compile(optimizer='sgd', \n",
        "              loss=loss_fn,\n",
        "              metrics=['mae', 'mse'])"
      ],
      "execution_count": 0,
      "outputs": []
    },
    {
      "cell_type": "code",
      "metadata": {
        "id": "RLb9sHNkvJZD",
        "colab_type": "code",
        "colab": {}
      },
      "source": [
        "num_epochs = 50\n",
        "batch_size = 1\n",
        "model.fit(X_train_norm, y_norm, \n",
        "          epochs=num_epochs, batch_size=batch_size,\n",
        "          verbose=1)"
      ],
      "execution_count": 0,
      "outputs": []
    },
    {
      "cell_type": "code",
      "metadata": {
        "id": "7e243ulkHMej",
        "colab_type": "code",
        "colab": {}
      },
      "source": [
        "history = model.fit(X, y, \n",
        "          epochs=num_epochs, batch_size=batch_size,\n",
        "          verbose=1)"
      ],
      "execution_count": 0,
      "outputs": []
    },
    {
      "cell_type": "code",
      "metadata": {
        "id": "MyT2tbLVHTQB",
        "colab_type": "code",
        "colab": {
          "base_uri": "https://localhost:8080/",
          "height": 54
        },
        "outputId": "cebd63ab-2ecb-4257-c80e-9a4114fc0e32"
      },
      "source": [
        "score = model.evaluate(X_norm,y_norm)\n",
        "score"
      ],
      "execution_count": 211,
      "outputs": [
        {
          "output_type": "stream",
          "text": [
            "100/100 [==============================] - 0s 94us/sample - loss: 0.0383 - mae: 0.1674 - mse: 0.0383\n"
          ],
          "name": "stdout"
        },
        {
          "output_type": "execute_result",
          "data": {
            "text/plain": [
              "[0.038257691562175754, 0.16740976, 0.03825769]"
            ]
          },
          "metadata": {
            "tags": []
          },
          "execution_count": 211
        }
      ]
    },
    {
      "cell_type": "code",
      "metadata": {
        "id": "YKHTF7wRxu1z",
        "colab_type": "code",
        "colab": {
          "base_uri": "https://localhost:8080/",
          "height": 340
        },
        "outputId": "f193288e-b1df-4857-9517-6aa90aacfdc7"
      },
      "source": [
        "print(model.w.numpy(), model.b.numpy())\n",
        "\n",
        "\n",
        "X_test = np.linspace(0, 100, num=100).reshape(-1, 1)\n",
        "X_test_norm = (X_test - np.mean(X)) / np.std(X)\n",
        "\n",
        "y_pred = model(tf.cast(X_test_norm, dtype=tf.float32))\n",
        "\n",
        "\n",
        "fig = plt.figure(figsize=(13, 5))\n",
        "ax = fig.add_subplot(1, 2, 1)\n",
        "plt.plot(X_norm, y_norm, 'o', markersize=10)\n",
        "plt.plot(X_test_norm, y_pred, '--', lw=4)\n",
        "plt.legend(['Training Samples', 'Linear Regression'], fontsize=15)\n",
        "\n",
        "ax = fig.add_subplot(1, 2, 2)\n",
        "plt.plot(Ws, lw=3)\n",
        "plt.plot(bs, lw=3)\n",
        "plt.legend(['Weight', 'bias'], fontsize=15)\n",
        "plt.show()"
      ],
      "execution_count": 183,
      "outputs": [
        {
          "output_type": "stream",
          "text": [
            "0.990531 -0.009263319\n"
          ],
          "name": "stdout"
        },
        {
          "output_type": "display_data",
          "data": {
            "image/png": "[encoded data removed]",
            "text/plain": [
              "<Figure size 936x360 with 2 Axes>"
            ]
          },
          "metadata": {
            "tags": []
          }
        }
      ]
    },
    {
      "cell_type": "markdown",
      "metadata": {
        "id": "lzkPHa3k1S1S",
        "colab_type": "text"
      },
      "source": [
        "Introduce Batch Size into the Mix"
      ]
    },
    {
      "cell_type": "code",
      "metadata": {
        "id": "MPvmKQmwDKsX",
        "colab_type": "code",
        "colab": {}
      },
      "source": [
        "W_pred= model.w.numpy()\n",
        "b_pred = model.b.numpy()"
      ],
      "execution_count": 0,
      "outputs": []
    },
    {
      "cell_type": "code",
      "metadata": {
        "id": "_HsPYxrrq7Zn",
        "colab_type": "code",
        "colab": {}
      },
      "source": [
        "predictions = W_pred * X_norm + b_pred"
      ],
      "execution_count": 0,
      "outputs": []
    },
    {
      "cell_type": "code",
      "metadata": {
        "id": "NOE9Y-mBtpUI",
        "colab_type": "code",
        "colab": {}
      },
      "source": [
        "pred = predictions.numpy()"
      ],
      "execution_count": 0,
      "outputs": []
    },
    {
      "cell_type": "code",
      "metadata": {
        "id": "O2FeJLzisZT5",
        "colab_type": "code",
        "outputId": "f57a2949-67e7-49c4-e395-34491a104d20",
        "colab": {
          "base_uri": "https://localhost:8080/",
          "height": 281
        }
      },
      "source": [
        "plt.plot(X_norm, y_norm, 'ro', label ='Original data') \n",
        "plt.plot(X_norm, predictions, label ='Fitted line') \n",
        "plt.title('Linear Regression Result') \n",
        "plt.legend() \n",
        "plt.show() "
      ],
      "execution_count": 198,
      "outputs": [
        {
          "output_type": "display_data",
          "data": {
            "image/png": "[encoded data removed]",
            "text/plain": [
              "<Figure size 432x288 with 1 Axes>"
            ]
          },
          "metadata": {
            "tags": []
          }
        }
      ]
    }
  ]
}