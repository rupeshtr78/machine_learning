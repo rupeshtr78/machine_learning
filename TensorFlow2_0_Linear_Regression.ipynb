{
  "nbformat": 4,
  "nbformat_minor": 0,
  "metadata": {
    "colab": {
      "name": "TensorFlow2.0 Linear Regression.ipynb",
      "provenance": [],
      "collapsed_sections": []
    },
    "kernelspec": {
      "name": "python3",
      "display_name": "Python 3"
    }
  },
  "cells": [
    {
      "cell_type": "code",
      "metadata": {
        "id": "C3AZ4kUqzSdq",
        "colab_type": "code",
        "colab": {
          "base_uri": "https://localhost:8080/",
          "height": 35
        },
        "outputId": "c1f24341-9169-4f0f-b687-9bc423fe82d5"
      },
      "source": [
        "%tensorflow_version 2.x"
      ],
      "execution_count": 1,
      "outputs": [
        {
          "output_type": "stream",
          "text": [
            "TensorFlow 2.x selected.\n"
          ],
          "name": "stdout"
        }
      ]
    },
    {
      "cell_type": "code",
      "metadata": {
        "id": "aut9nT9xzfnp",
        "colab_type": "code",
        "colab": {}
      },
      "source": [
        "import pandas as pd\n",
        "import numpy as np\n",
        "import tensorflow as tf\n",
        "from sklearn.model_selection import train_test_split\n",
        "import matplotlib.pyplot as plt "
      ],
      "execution_count": 0,
      "outputs": []
    },
    {
      "cell_type": "code",
      "metadata": {
        "id": "uFyN5KH5zm6i",
        "colab_type": "code",
        "colab": {
          "base_uri": "https://localhost:8080/",
          "height": 35
        },
        "outputId": "4bff8d7b-408a-4c3b-8c03-a5ca6c7a4983"
      },
      "source": [
        "tf.version.VERSION"
      ],
      "execution_count": 4,
      "outputs": [
        {
          "output_type": "execute_result",
          "data": {
            "text/plain": [
              "'2.1.0'"
            ]
          },
          "metadata": {
            "tags": []
          },
          "execution_count": 4
        }
      ]
    },
    {
      "cell_type": "code",
      "metadata": {
        "id": "QJqiASrbSiZA",
        "colab_type": "code",
        "colab": {
          "base_uri": "https://localhost:8080/",
          "height": 35
        },
        "outputId": "e5edd30e-4bc9-4091-bc60-796f8d72b468"
      },
      "source": [
        "true_w = 5\n",
        "true_b = 3\n",
        "num_features = 200\n",
        "\n",
        "X = tf.random.normal(shape=[num_features])\n",
        "noise = tf.random.uniform(shape=[num_features],minval=-4, maxval=4)\n",
        "y = true_w*X + true_b + noise\n",
        "\n",
        "X.shape , y.shape"
      ],
      "execution_count": 199,
      "outputs": [
        {
          "output_type": "execute_result",
          "data": {
            "text/plain": [
              "(TensorShape([200]), TensorShape([200]))"
            ]
          },
          "metadata": {
            "tags": []
          },
          "execution_count": 199
        }
      ]
    },
    {
      "cell_type": "code",
      "metadata": {
        "id": "TXg4bm6jTFIj",
        "colab_type": "code",
        "colab": {
          "base_uri": "https://localhost:8080/",
          "height": 265
        },
        "outputId": "08c3a894-37b5-40d1-e2a4-21db60e1d396"
      },
      "source": [
        "plt.scatter(X,y , c='b')\n",
        "plt.show()"
      ],
      "execution_count": 200,
      "outputs": [
        {
          "output_type": "display_data",
          "data": {
            "image/png": "[encoded data removed]",
            "text/plain": [
              "<Figure size 432x288 with 1 Axes>"
            ]
          },
          "metadata": {
            "tags": []
          }
        }
      ]
    },
    {
      "cell_type": "code",
      "metadata": {
        "id": "GZBQ46lfS0jA",
        "colab_type": "code",
        "colab": {}
      },
      "source": [
        "class Model(object):\n",
        "  def __init__(self):\n",
        "    # Initialize the weights to `5.0` and the bias to `0.0`\n",
        "    # In practice, these should be initialized to random values (for example, with `tf.random.normal`)\n",
        "    self.W = tf.Variable(tf.random.uniform(shape=[num_features],minval=0.0,maxval=10),name = \"Weights\")\n",
        "    self.b = tf.Variable(tf.zeros(shape=[num_features]),name = \"Bias\")\n",
        "\n",
        "  def __call__(self, x):\n",
        "    return self.W * x + self.b\n",
        "\n",
        "model = Model()\n",
        "\n",
        "# tf.random.uniform\n"
      ],
      "execution_count": 0,
      "outputs": []
    },
    {
      "cell_type": "code",
      "metadata": {
        "id": "br4-VKoIfmAr",
        "colab_type": "code",
        "colab": {
          "base_uri": "https://localhost:8080/",
          "height": 265
        },
        "outputId": "0369c88b-e7a7-47d7-9d02-3722d0c194ed"
      },
      "source": [
        "plt.scatter(X, y, c='b')\n",
        "plt.scatter(X, model(X), c='r')\n",
        "plt.show()"
      ],
      "execution_count": 203,
      "outputs": [
        {
          "output_type": "display_data",
          "data": {
            "image/png": "[encoded data removed]",
            "text/plain": [
              "<Figure size 432x288 with 1 Axes>"
            ]
          },
          "metadata": {
            "tags": []
          }
        }
      ]
    },
    {
      "cell_type": "code",
      "metadata": {
        "id": "nzJ-nBpPaw7q",
        "colab_type": "code",
        "colab": {}
      },
      "source": [
        "def loss(predicted_y, target_y):\n",
        "  return tf.reduce_mean(tf.square(predicted_y - target_y))"
      ],
      "execution_count": 0,
      "outputs": []
    },
    {
      "cell_type": "code",
      "metadata": {
        "id": "6zj1XEajb8EF",
        "colab_type": "code",
        "colab": {}
      },
      "source": [
        "#hyperparameters of the model, the Learning Rate and the number of Epochs.\n",
        "learning_rate = 0.01\n",
        "training_epochs = 1000\n"
      ],
      "execution_count": 0,
      "outputs": []
    },
    {
      "cell_type": "code",
      "metadata": {
        "id": "OoWsJYJxbJrd",
        "colab_type": "code",
        "colab": {}
      },
      "source": [
        "def train(model, inputs, outputs, learning_rate):\n",
        "  with tf.GradientTape() as t:\n",
        "    current_loss = loss(model(inputs), outputs)\n",
        "  dW, db = t.gradient(current_loss, [model.W, model.b])\n",
        "  model.W.assign_sub(learning_rate * dW)\n",
        "  model.b.assign_sub(learning_rate * db)"
      ],
      "execution_count": 0,
      "outputs": []
    },
    {
      "cell_type": "code",
      "metadata": {
        "id": "vSYCU31LcN-r",
        "colab_type": "code",
        "colab": {
          "base_uri": "https://localhost:8080/",
          "height": 384
        },
        "outputId": "f00e8f86-cee1-4f1e-9000-062a3363ced4"
      },
      "source": [
        "model = Model()\n",
        "\n",
        "# Collect the history of W-values and b-values to plot later\n",
        "Ws, bs = [], []\n",
        "epochs_plot = list()\n",
        "loss_plot = list()\n",
        "epochs = range(1000)\n",
        "for epoch in epochs:\n",
        "  Ws.append(model.W.numpy().mean())\n",
        "  bs.append(model.b.numpy().mean())\n",
        "  current_loss = loss(model(X), y)\n",
        "\n",
        "  train(model, X, y, learning_rate=0.2)\n",
        "\n",
        "  if (epoch + 1) % 50 == 0:\n",
        "    Ws.append(model.W.numpy().mean())\n",
        "    bs.append(model.b.numpy().mean())\n",
        "    epochs_plot.append( epoch + 10 )\n",
        "    loss_plot.append( current_loss ) \n",
        "    print('Epoch %2d:  loss=%2.5f' %\n",
        "        (epoch, current_loss))\n",
        "  \n"
      ],
      "execution_count": 261,
      "outputs": [
        {
          "output_type": "stream",
          "text": [
            "Epoch 49:  loss=15.38850\n",
            "Epoch 99:  loss=10.47572\n",
            "Epoch 149:  loss=7.54270\n",
            "Epoch 199:  loss=5.60199\n",
            "Epoch 249:  loss=4.23809\n",
            "Epoch 299:  loss=3.24452\n",
            "Epoch 349:  loss=2.50426\n",
            "Epoch 399:  loss=1.94448\n",
            "Epoch 449:  loss=1.51675\n",
            "Epoch 499:  loss=1.18742\n",
            "Epoch 549:  loss=0.93237\n",
            "Epoch 599:  loss=0.73394\n",
            "Epoch 649:  loss=0.57898\n",
            "Epoch 699:  loss=0.45759\n",
            "Epoch 749:  loss=0.36223\n",
            "Epoch 799:  loss=0.28717\n",
            "Epoch 849:  loss=0.22795\n",
            "Epoch 899:  loss=0.18116\n",
            "Epoch 949:  loss=0.14413\n",
            "Epoch 999:  loss=0.11478\n"
          ],
          "name": "stdout"
        }
      ]
    },
    {
      "cell_type": "markdown",
      "metadata": {
        "id": "lzkPHa3k1S1S",
        "colab_type": "text"
      },
      "source": [
        "Introduce Batch Size into the Mix"
      ]
    },
    {
      "cell_type": "code",
      "metadata": {
        "id": "LAhq4h-gx4eh",
        "colab_type": "code",
        "colab": {
          "base_uri": "https://localhost:8080/",
          "height": 384
        },
        "outputId": "b423037b-602b-413c-f2cb-6e000cc08a41"
      },
      "source": [
        "model = Model()\n",
        "\n",
        "# Collect the history of W-values and b-values to plot later\n",
        "Ws, bs = [], []\n",
        "epochs_plot = list()\n",
        "loss_plot = list()\n",
        "batch_size = 10\n",
        "epochs = range(200)\n",
        "for epoch in epochs:\n",
        "  Ws.append(model.W.numpy().mean())\n",
        "  bs.append(model.b.numpy().mean())\n",
        "  for batch in range( int(num_features/batch_size) ):\n",
        "    \n",
        "    current_loss = loss(model(X), y)\n",
        "\n",
        "    train(model, X, y, learning_rate=0.1)\n",
        "  \n",
        "    \n",
        "  if (epoch + 1) % 10 == 0:\n",
        "    \n",
        "    epochs_plot.append( epoch + 10 )\n",
        "    loss_plot.append( current_loss ) \n",
        "    print('Epoch %2d:  loss=%2.5f' %\n",
        "        (epoch, current_loss))\n"
      ],
      "execution_count": 313,
      "outputs": [
        {
          "output_type": "stream",
          "text": [
            "Epoch  9:  loss=9.41563\n",
            "Epoch 19:  loss=5.14281\n",
            "Epoch 29:  loss=3.00671\n",
            "Epoch 39:  loss=1.81368\n",
            "Epoch 49:  loss=1.11310\n",
            "Epoch 59:  loss=0.69071\n",
            "Epoch 69:  loss=0.43196\n",
            "Epoch 79:  loss=0.27174\n",
            "Epoch 89:  loss=0.17176\n",
            "Epoch 99:  loss=0.10899\n",
            "Epoch 109:  loss=0.06938\n",
            "Epoch 119:  loss=0.04430\n",
            "Epoch 129:  loss=0.02835\n",
            "Epoch 139:  loss=0.01819\n",
            "Epoch 149:  loss=0.01169\n",
            "Epoch 159:  loss=0.00753\n",
            "Epoch 169:  loss=0.00486\n",
            "Epoch 179:  loss=0.00314\n",
            "Epoch 189:  loss=0.00203\n",
            "Epoch 199:  loss=0.00132\n"
          ],
          "name": "stdout"
        }
      ]
    },
    {
      "cell_type": "code",
      "metadata": {
        "id": "7xQrjfBsnYhJ",
        "colab_type": "code",
        "colab": {
          "base_uri": "https://localhost:8080/",
          "height": 279
        },
        "outputId": "41f2b962-497e-4f4b-88c2-cadef6b3847f"
      },
      "source": [
        "plt.plot( epochs_plot , loss_plot ) \n",
        "plt.xlabel('epochs')\n",
        "plt.ylabel('loss')\n",
        "plt.show()"
      ],
      "execution_count": 314,
      "outputs": [
        {
          "output_type": "display_data",
          "data": {
            "image/png": "[encoded data removed]",
            "text/plain": [
              "<Figure size 432x288 with 1 Axes>"
            ]
          },
          "metadata": {
            "tags": []
          }
        }
      ]
    },
    {
      "cell_type": "code",
      "metadata": {
        "id": "_HsPYxrrq7Zn",
        "colab_type": "code",
        "colab": {}
      },
      "source": [
        "predictions = Ws * X + bs"
      ],
      "execution_count": 0,
      "outputs": []
    },
    {
      "cell_type": "code",
      "metadata": {
        "id": "NOE9Y-mBtpUI",
        "colab_type": "code",
        "colab": {
          "base_uri": "https://localhost:8080/",
          "height": 35
        },
        "outputId": "3f490a2c-8b60-4d18-d89d-dff18b202c5c"
      },
      "source": [
        "predictions.shape"
      ],
      "execution_count": 271,
      "outputs": [
        {
          "output_type": "execute_result",
          "data": {
            "text/plain": [
              "TensorShape([200])"
            ]
          },
          "metadata": {
            "tags": []
          },
          "execution_count": 271
        }
      ]
    },
    {
      "cell_type": "code",
      "metadata": {
        "id": "O2FeJLzisZT5",
        "colab_type": "code",
        "colab": {
          "base_uri": "https://localhost:8080/",
          "height": 281
        },
        "outputId": "b32b231e-f35a-4de5-8095-2839445bb916"
      },
      "source": [
        "plt.plot(X, y, 'ro', label ='Original data') \n",
        "plt.plot(X, predictions, label ='Fitted line') \n",
        "plt.title('Linear Regression Result') \n",
        "plt.legend() \n",
        "plt.show() "
      ],
      "execution_count": 316,
      "outputs": [
        {
          "output_type": "display_data",
          "data": {
            "image/png": "[encoded data removed]",
            "text/plain": [
              "<Figure size 432x288 with 1 Axes>"
            ]
          },
          "metadata": {
            "tags": []
          }
        }
      ]
    }
  ]
}