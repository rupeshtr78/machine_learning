{
  "nbformat": 4,
  "nbformat_minor": 0,
  "metadata": {
    "colab": {
      "name": "Tensor2.0 Keras101.ipynb",
      "provenance": [],
      "collapsed_sections": []
    },
    "kernelspec": {
      "name": "python3",
      "display_name": "Python 3"
    }
  },
  "cells": [
    {
      "cell_type": "code",
      "metadata": {
        "id": "yhxnOKhI8J_c",
        "colab_type": "code",
        "colab": {
          "base_uri": "https://localhost:8080/",
          "height": 36
        },
        "outputId": "1b07770b-275b-4417-b8d0-3faabd0e704b"
      },
      "source": [
        "%tensorflow_version 2.x"
      ],
      "execution_count": 1,
      "outputs": [
        {
          "output_type": "stream",
          "text": [
            "TensorFlow 2.x selected.\n"
          ],
          "name": "stdout"
        }
      ]
    },
    {
      "cell_type": "code",
      "metadata": {
        "id": "6bqPIrr18UsZ",
        "colab_type": "code",
        "colab": {}
      },
      "source": [
        "import pandas as pd\n",
        "import numpy as np\n",
        "import tensorflow as tf\n",
        "from sklearn.model_selection import train_test_split\n",
        "from tensorflow import keras\n",
        "import matplotlib.pyplot as plt \n",
        "from keras.datasets import mnist"
      ],
      "execution_count": 0,
      "outputs": []
    },
    {
      "cell_type": "code",
      "metadata": {
        "id": "KLuMiBo88iLc",
        "colab_type": "code",
        "colab": {
          "base_uri": "https://localhost:8080/",
          "height": 36
        },
        "outputId": "8bc66210-16c2-48cb-afaa-f278d941cab8"
      },
      "source": [
        "tf.version.VERSION"
      ],
      "execution_count": 3,
      "outputs": [
        {
          "output_type": "execute_result",
          "data": {
            "text/plain": [
              "'2.1.0'"
            ]
          },
          "metadata": {
            "tags": []
          },
          "execution_count": 3
        }
      ]
    },
    {
      "cell_type": "code",
      "metadata": {
        "id": "rBw4aQHe8jDu",
        "colab_type": "code",
        "colab": {
          "base_uri": "https://localhost:8080/",
          "height": 54
        },
        "outputId": "3441e940-5724-4c3b-da42-c37d5f94af58"
      },
      "source": [
        "(mnist_train_images, mnist_train_labels), (mnist_test_images, mnist_test_labels) = mnist.load_data()"
      ],
      "execution_count": 5,
      "outputs": [
        {
          "output_type": "stream",
          "text": [
            "Downloading data from https://s3.amazonaws.com/img-datasets/mnist.npz\n",
            "11493376/11490434 [==============================] - 0s 0us/step\n"
          ],
          "name": "stdout"
        }
      ]
    },
    {
      "cell_type": "code",
      "metadata": {
        "id": "_aoEMtwp9Cuq",
        "colab_type": "code",
        "colab": {}
      },
      "source": [
        "train_images = mnist_train_images.reshape(60000, 784)\n",
        "test_images = mnist_test_images.reshape(10000, 784)\n",
        "train_images = train_images.astype('float32')\n",
        "test_images = test_images.astype('float32')\n",
        "train_images /= 255\n",
        "test_images /= 255"
      ],
      "execution_count": 0,
      "outputs": []
    },
    {
      "cell_type": "code",
      "metadata": {
        "id": "4gtl1buS9LBs",
        "colab_type": "code",
        "colab": {}
      },
      "source": [
        "train_labels = keras.utils.to_categorical(mnist_train_labels, 10)\n",
        "test_labels = keras.utils.to_categorical(mnist_test_labels, 10)"
      ],
      "execution_count": 0,
      "outputs": []
    },
    {
      "cell_type": "code",
      "metadata": {
        "id": "2pLCEuA29lAu",
        "colab_type": "code",
        "colab": {
          "base_uri": "https://localhost:8080/",
          "height": 54
        },
        "outputId": "0e084bac-3a74-46d9-c08e-746bed026fb3"
      },
      "source": [
        "label = train_labels[1249].argmax(axis=0)\n",
        "print(train_labels[1249])\n",
        "print(label)"
      ],
      "execution_count": 14,
      "outputs": [
        {
          "output_type": "stream",
          "text": [
            "[0. 0. 1. 0. 0. 0. 0. 0. 0. 0.]\n",
            "2\n"
          ],
          "name": "stdout"
        }
      ]
    },
    {
      "cell_type": "code",
      "metadata": {
        "id": "oz-bvs7z9P9B",
        "colab_type": "code",
        "colab": {
          "base_uri": "https://localhost:8080/",
          "height": 300
        },
        "outputId": "7e779250-69a5-4016-d644-57035e737cd2"
      },
      "source": [
        "\n",
        "def display_sample(num):\n",
        "    #Print the one-hot array of this sample's label \n",
        "    print(train_labels[num])  \n",
        "    #Print the label converted back to a number\n",
        "    label = train_labels[num].argmax(axis=0)\n",
        "    #Reshape the 768 values to a 28x28 image\n",
        "    image = train_images[num].reshape([28,28])\n",
        "    plt.title('Sample: %d  Label: %d' % (num, label))\n",
        "    plt.imshow(image, cmap=plt.get_cmap('gray_r'))\n",
        "    plt.show()\n",
        "    \n",
        "display_sample(1249)"
      ],
      "execution_count": 11,
      "outputs": [
        {
          "output_type": "stream",
          "text": [
            "[0. 0. 1. 0. 0. 0. 0. 0. 0. 0.]\n"
          ],
          "name": "stdout"
        },
        {
          "output_type": "display_data",
          "data": {
            "image/png": "[encoded data removed]",
            "text/plain": [
              "<Figure size 432x288 with 1 Axes>"
            ]
          },
          "metadata": {
            "tags": []
          }
        }
      ]
    },
    {
      "cell_type": "code",
      "metadata": {
        "id": "-NhMF-E296Ek",
        "colab_type": "code",
        "colab": {}
      },
      "source": [
        "model = keras.Sequential()\n",
        "model.add(keras.Dense(512, activation='relu', input_shape=(784,)))\n",
        "model.add(Dense(10, activation='softmax'))"
      ],
      "execution_count": 0,
      "outputs": []
    },
    {
      "cell_type": "code",
      "metadata": {
        "id": "SiQaJkLn-Yxx",
        "colab_type": "code",
        "colab": {
          "base_uri": "https://localhost:8080/",
          "height": 279
        },
        "outputId": "8b4d7000-c61b-489b-e6a7-55b5a4c4b952"
      },
      "source": [
        "model = keras.Sequential([\n",
        "    keras.layers.Flatten(input_shape=(784, )),\n",
        "    keras.layers.Dense(512, activation='relu'),\n",
        "    keras.layers.Dense(10, activation='softmax')\n",
        "])\n",
        "\n",
        "\n",
        "model.summary()\n"
      ],
      "execution_count": 18,
      "outputs": [
        {
          "output_type": "stream",
          "text": [
            "Model: \"sequential_2\"\n",
            "_________________________________________________________________\n",
            "Layer (type)                 Output Shape              Param #   \n",
            "=================================================================\n",
            "flatten_1 (Flatten)          (None, 784)               0         \n",
            "_________________________________________________________________\n",
            "dense_2 (Dense)              (None, 512)               401920    \n",
            "_________________________________________________________________\n",
            "dense_3 (Dense)              (None, 10)                5130      \n",
            "=================================================================\n",
            "Total params: 407,050\n",
            "Trainable params: 407,050\n",
            "Non-trainable params: 0\n",
            "_________________________________________________________________\n"
          ],
          "name": "stdout"
        }
      ]
    },
    {
      "cell_type": "code",
      "metadata": {
        "id": "tJ_jZC2KEM6b",
        "colab_type": "code",
        "colab": {
          "base_uri": "https://localhost:8080/",
          "height": 223
        },
        "outputId": "a83bfebf-2b8e-4d07-cf25-4db98171a78d"
      },
      "source": [
        "history = model.fit(train_images, train_labels,\n",
        "                    batch_size=100,\n",
        "                    epochs=5,\n",
        "                    verbose=2,\n",
        "                    validation_data=(test_images, test_labels))"
      ],
      "execution_count": 21,
      "outputs": [
        {
          "output_type": "stream",
          "text": [
            "Train on 60000 samples, validate on 10000 samples\n",
            "Epoch 1/5\n",
            "60000/60000 - 6s - loss: 0.2425 - accuracy: 0.9289 - val_loss: 0.1172 - val_accuracy: 0.9646\n",
            "Epoch 2/5\n",
            "60000/60000 - 5s - loss: 0.0991 - accuracy: 0.9707 - val_loss: 0.0982 - val_accuracy: 0.9705\n",
            "Epoch 3/5\n",
            "60000/60000 - 5s - loss: 0.0654 - accuracy: 0.9803 - val_loss: 0.0785 - val_accuracy: 0.9767\n",
            "Epoch 4/5\n",
            "60000/60000 - 5s - loss: 0.0483 - accuracy: 0.9854 - val_loss: 0.0816 - val_accuracy: 0.9756\n",
            "Epoch 5/5\n",
            "60000/60000 - 5s - loss: 0.0364 - accuracy: 0.9891 - val_loss: 0.0689 - val_accuracy: 0.9805\n"
          ],
          "name": "stdout"
        }
      ]
    },
    {
      "cell_type": "code",
      "metadata": {
        "id": "9-xz5akSHKiC",
        "colab_type": "code",
        "colab": {
          "base_uri": "https://localhost:8080/",
          "height": 54
        },
        "outputId": "dd01d0a8-0e61-4ca5-c3ef-487741b344cc"
      },
      "source": [
        "score = model.evaluate(test_images, test_labels, verbose=0)\n",
        "print('Test loss:', score[0])\n",
        "print('Test accuracy:', score[1])"
      ],
      "execution_count": 22,
      "outputs": [
        {
          "output_type": "stream",
          "text": [
            "Test loss: 0.06888663696883013\n",
            "Test accuracy: 0.9805\n"
          ],
          "name": "stdout"
        }
      ]
    },
    {
      "cell_type": "code",
      "metadata": {
        "id": "YRC2aXHtHTgr",
        "colab_type": "code",
        "colab": {}
      },
      "source": [
        "for x in range(1000):\n",
        "    test_image = test_images[x,:].reshape(1,784)\n",
        "    predicted_labels = model.predict(test_image).argmax()\n",
        "    label = test_labels[x].argmax()\n",
        "    if (predicted_labels != label):\n",
        "        plt.title('Prediction: %d Label: %d' % (predicted_labels, label))\n",
        "        plt.imshow(test_image.reshape([28,28]), cmap=plt.get_cmap('gray_r'))\n",
        "        plt.show()"
      ],
      "execution_count": 0,
      "outputs": []
    },
    {
      "cell_type": "code",
      "metadata": {
        "id": "-0FoiOJtoTJn",
        "colab_type": "code",
        "colab": {
          "base_uri": "https://localhost:8080/",
          "height": 36
        },
        "outputId": "d4e43d69-d639-44e6-dd0b-94cd6c1e1083"
      },
      "source": [
        "error_label = list()\n",
        "for x in range(1000):\n",
        "    test_image = test_images[x,:].reshape(1,784)\n",
        "    predicted_label = model.predict(test_image).argmax()\n",
        "    label = test_labels[x].argmax()\n",
        "    \n",
        "    if (predicted_label != label):\n",
        "      error_label.append(label)\n",
        "print(len(error_label))"
      ],
      "execution_count": 116,
      "outputs": [
        {
          "output_type": "stream",
          "text": [
            "19\n"
          ],
          "name": "stdout"
        }
      ]
    },
    {
      "cell_type": "markdown",
      "metadata": {
        "id": "x1j6pWFWJvOY",
        "colab_type": "text"
      },
      "source": [
        "Add Dropout Layer"
      ]
    },
    {
      "cell_type": "code",
      "metadata": {
        "id": "rOYeKS39HwEZ",
        "colab_type": "code",
        "colab": {}
      },
      "source": [
        "model_dropout = keras.Sequential([\n",
        "                                  keras.layers.Flatten(input_shape=(784,)),\n",
        "                                  keras.layers.Dense(512,activation='relu'),\n",
        "                                  keras.layers.Dropout(rate=0.2),\n",
        "                                  keras.layers.Dense(256,activation='relu'),\n",
        "                                  keras.layers.Dropout(rate=0.5),\n",
        "                                  keras.layers.Dense(10,activation='softmax')\n",
        "                                  \n",
        "])"
      ],
      "execution_count": 0,
      "outputs": []
    },
    {
      "cell_type": "code",
      "metadata": {
        "id": "8ngsHZuBJyAf",
        "colab_type": "code",
        "colab": {}
      },
      "source": [
        "model_dropout.compile(loss='categorical_crossentropy',\n",
        "    optimizer= keras.optimizers.Adam(),\n",
        "    metrics=['accuracy'])"
      ],
      "execution_count": 0,
      "outputs": []
    },
    {
      "cell_type": "code",
      "metadata": {
        "id": "zqZCPt8MJ4oE",
        "colab_type": "code",
        "colab": {
          "base_uri": "https://localhost:8080/",
          "height": 410
        },
        "outputId": "ef046e81-9e2e-473a-985e-bfe2dc80ee7e"
      },
      "source": [
        "hist_dropout = model_dropout.fit(train_images, train_labels,\n",
        "           batch_size=100,\n",
        "           epochs=10,\n",
        "           verbose=2,\n",
        "           validation_data=(test_images, test_labels))"
      ],
      "execution_count": 56,
      "outputs": [
        {
          "output_type": "stream",
          "text": [
            "Train on 60000 samples, validate on 10000 samples\n",
            "Epoch 1/10\n",
            "60000/60000 - 6s - loss: 0.0520 - accuracy: 0.9834 - val_loss: 0.0679 - val_accuracy: 0.9794\n",
            "Epoch 2/10\n",
            "60000/60000 - 6s - loss: 0.0443 - accuracy: 0.9861 - val_loss: 0.0666 - val_accuracy: 0.9816\n",
            "Epoch 3/10\n",
            "60000/60000 - 6s - loss: 0.0431 - accuracy: 0.9862 - val_loss: 0.0669 - val_accuracy: 0.9803\n",
            "Epoch 4/10\n",
            "60000/60000 - 6s - loss: 0.0350 - accuracy: 0.9887 - val_loss: 0.0652 - val_accuracy: 0.9820\n",
            "Epoch 5/10\n",
            "60000/60000 - 6s - loss: 0.0338 - accuracy: 0.9886 - val_loss: 0.0692 - val_accuracy: 0.9824\n",
            "Epoch 6/10\n",
            "60000/60000 - 6s - loss: 0.0297 - accuracy: 0.9901 - val_loss: 0.0659 - val_accuracy: 0.9814\n",
            "Epoch 7/10\n",
            "60000/60000 - 6s - loss: 0.0290 - accuracy: 0.9902 - val_loss: 0.0785 - val_accuracy: 0.9819\n",
            "Epoch 8/10\n",
            "60000/60000 - 6s - loss: 0.0267 - accuracy: 0.9912 - val_loss: 0.0732 - val_accuracy: 0.9825\n",
            "Epoch 9/10\n",
            "60000/60000 - 6s - loss: 0.0273 - accuracy: 0.9914 - val_loss: 0.0715 - val_accuracy: 0.9828\n",
            "Epoch 10/10\n",
            "60000/60000 - 6s - loss: 0.0270 - accuracy: 0.9912 - val_loss: 0.0755 - val_accuracy: 0.9823\n"
          ],
          "name": "stdout"
        }
      ]
    },
    {
      "cell_type": "code",
      "metadata": {
        "id": "nVNfsetMK3op",
        "colab_type": "code",
        "colab": {
          "base_uri": "https://localhost:8080/",
          "height": 54
        },
        "outputId": "13beacdb-2c95-40e5-d565-fa716640e3ff"
      },
      "source": [
        "score = model_dropout.evaluate(test_images, test_labels, verbose=0)\n",
        "print('Test loss:', score[0])\n",
        "print('Test accuracy:', score[1])\n"
      ],
      "execution_count": 46,
      "outputs": [
        {
          "output_type": "stream",
          "text": [
            "Test loss: 0.4155910562992096\n",
            "Test accuracy: 0.9268\n"
          ],
          "name": "stdout"
        }
      ]
    },
    {
      "cell_type": "code",
      "metadata": {
        "id": "x2GWAIxDL0q4",
        "colab_type": "code",
        "colab": {}
      },
      "source": [
        "predictions = model_dropout.predict(test_images)\n"
      ],
      "execution_count": 0,
      "outputs": []
    },
    {
      "cell_type": "code",
      "metadata": {
        "id": "MqSwqZ0ZRiQb",
        "colab_type": "code",
        "colab": {
          "base_uri": "https://localhost:8080/",
          "height": 36
        },
        "outputId": "108a6074-fa2f-4b12-cbb3-8159ef33a5fb"
      },
      "source": [
        "predictions.shape\n"
      ],
      "execution_count": 59,
      "outputs": [
        {
          "output_type": "execute_result",
          "data": {
            "text/plain": [
              "(10000, 10)"
            ]
          },
          "metadata": {
            "tags": []
          },
          "execution_count": 59
        }
      ]
    },
    {
      "cell_type": "code",
      "metadata": {
        "id": "0IyA7IGORp2B",
        "colab_type": "code",
        "colab": {
          "base_uri": "https://localhost:8080/",
          "height": 36
        },
        "outputId": "d28ca39c-45e2-4caf-b19d-134f0abcca38"
      },
      "source": [
        "np.argmax(predictions[1003])\n"
      ],
      "execution_count": 71,
      "outputs": [
        {
          "output_type": "execute_result",
          "data": {
            "text/plain": [
              "5"
            ]
          },
          "metadata": {
            "tags": []
          },
          "execution_count": 71
        }
      ]
    },
    {
      "cell_type": "code",
      "metadata": {
        "id": "rM-_RP8dRv9q",
        "colab_type": "code",
        "colab": {
          "base_uri": "https://localhost:8080/",
          "height": 36
        },
        "outputId": "38d0b401-32c4-45d2-ad6d-52b315b2317c"
      },
      "source": [
        "test_labels[1003].argmax()\n"
      ],
      "execution_count": 72,
      "outputs": [
        {
          "output_type": "execute_result",
          "data": {
            "text/plain": [
              "5"
            ]
          },
          "metadata": {
            "tags": []
          },
          "execution_count": 72
        }
      ]
    },
    {
      "cell_type": "code",
      "metadata": {
        "id": "bCWQME4ESRBD",
        "colab_type": "code",
        "colab": {
          "base_uri": "https://localhost:8080/",
          "height": 36
        },
        "outputId": "dee34a8d-a199-4686-d0f6-d8fa17da8c6b"
      },
      "source": [
        "len(test_labels)"
      ],
      "execution_count": 66,
      "outputs": [
        {
          "output_type": "execute_result",
          "data": {
            "text/plain": [
              "10000"
            ]
          },
          "metadata": {
            "tags": []
          },
          "execution_count": 66
        }
      ]
    },
    {
      "cell_type": "code",
      "metadata": {
        "id": "luMaSh7ZSI3y",
        "colab_type": "code",
        "colab": {
          "base_uri": "https://localhost:8080/",
          "height": 36
        },
        "outputId": "0a6a83d6-238b-41fa-dd77-148388d046ca"
      },
      "source": [
        "error_label = list()\n",
        "for x in range(1000):\n",
        "    test_image = test_images[x,:].reshape(1,784)\n",
        "    predicted_label = model_dropout.predict(test_image).argmax()\n",
        "    label = test_labels[x].argmax()\n",
        "    \n",
        "    if (predicted_label != label):\n",
        "      error_label.append(label)\n",
        "print(len(error_label))\n",
        "       "
      ],
      "execution_count": 102,
      "outputs": [
        {
          "output_type": "stream",
          "text": [
            "22\n"
          ],
          "name": "stdout"
        }
      ]
    }
  ]
}