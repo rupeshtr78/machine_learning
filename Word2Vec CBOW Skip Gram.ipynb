{
 "cells": [
  {
   "cell_type": "code",
   "execution_count": 125,
   "metadata": {
    "scrolled": true
   },
   "outputs": [],
   "source": [
    "# Python program to generate word vectors using Word2Vec \n",
    "\n",
    "# importing all necessary modules \n",
    "from nltk.tokenize import sent_tokenize, word_tokenize \n",
    "from nltk.corpus import stopwords\n",
    "import warnings \n",
    "\n",
    "warnings.filterwarnings(action = 'ignore') \n",
    "\n",
    "import gensim \n",
    "from gensim.models import Word2Vec \n",
    "from gensim.parsing.preprocessing import strip_punctuation"
   ]
  },
  {
   "cell_type": "code",
   "execution_count": 13,
   "metadata": {},
   "outputs": [],
   "source": [
    "# Reads ‘alice.txt’ file \n",
    "sample = open(\"../data/alice.txt\", \"r\") \n",
    "s = sample.read() "
   ]
  },
  {
   "cell_type": "code",
   "execution_count": 16,
   "metadata": {},
   "outputs": [
    {
     "data": {
      "text/plain": [
       "<function str.title>"
      ]
     },
     "execution_count": 16,
     "metadata": {},
     "output_type": "execute_result"
    }
   ],
   "source": [
    "s.title"
   ]
  },
  {
   "cell_type": "code",
   "execution_count": 17,
   "metadata": {},
   "outputs": [],
   "source": [
    "# Replaces escape character with space \n",
    "f = s.replace(\"\\n\", \" \") "
   ]
  },
  {
   "cell_type": "code",
   "execution_count": 18,
   "metadata": {},
   "outputs": [],
   "source": [
    "# iterate through each sentence in the file \n",
    "data = [] \n",
    "\n",
    "for i in sent_tokenize(f): \n",
    "\ttemp = [] \n",
    "\t\n",
    "\t# tokenize the sentence into words \n",
    "\tfor j in word_tokenize(i): \n",
    "\t\ttemp.append(j.lower()) \n",
    "\n",
    "\tdata.append(temp) "
   ]
  },
  {
   "cell_type": "code",
   "execution_count": 28,
   "metadata": {},
   "outputs": [
    {
     "name": "stdout",
     "output_type": "stream",
     "text": [
      "Cosine similarity between 'alice' and 'wonderland' - CBOW :  0.9994095\n",
      "Cosine similarity between 'alice' and 'machines' - CBOW :  0.9568266\n"
     ]
    }
   ],
   "source": [
    "# Create CBOW model \n",
    "model1 = gensim.models.Word2Vec(data, min_count = 1, \n",
    "\t\t\t\t\t\t\tsize = 100, window = 5) \n",
    "\n",
    "# Print results \n",
    "print(\"Cosine similarity between 'alice' \" +\n",
    "\t\t\t\"and 'wonderland' - CBOW : \", \n",
    "\tmodel1.similarity('alice', 'wonderland')) \n",
    "\t\n",
    "print(\"Cosine similarity between 'alice' \" +\n",
    "\t\t\t\t\"and 'machines' - CBOW : \", \n",
    "\tmodel1.similarity('alice', 'machines')) "
   ]
  },
  {
   "cell_type": "code",
   "execution_count": 29,
   "metadata": {},
   "outputs": [
    {
     "name": "stdout",
     "output_type": "stream",
     "text": [
      "Cosine similarity between 'alice' and 'wonderland' - Skip Gram :  0.9089192\n",
      "Cosine similarity between 'alice' and 'machines' - Skip Gram :  0.86312747\n"
     ]
    }
   ],
   "source": [
    "# Create Skip Gram model \n",
    "model2 = gensim.models.Word2Vec(data, min_count = 1, size = 100, \n",
    "\t\t\t\t\t\t\t\t\t\t\twindow = 5, sg = 1) \n",
    "\n",
    "# Print results \n",
    "print(\"Cosine similarity between 'alice' \" +\n",
    "\t\t\"and 'wonderland' - Skip Gram : \", \n",
    "\tmodel2.similarity('alice', 'wonderland')) \n",
    "\t\n",
    "print(\"Cosine similarity between 'alice' \" +\n",
    "\t\t\t\"and 'machines' - Skip Gram : \", \n",
    "\tmodel2.similarity('alice', 'machines')) "
   ]
  },
  {
   "cell_type": "code",
   "execution_count": 75,
   "metadata": {},
   "outputs": [],
   "source": [
    "corpus = \"\" \n",
    "corpus += \"The earth revolves around the sun. The moon revolves around the earth is was as\""
   ]
  },
  {
   "cell_type": "code",
   "execution_count": 85,
   "metadata": {},
   "outputs": [],
   "source": [
    "f_corpus = corpus.replace(\"\\n\", \" \") "
   ]
  },
  {
   "cell_type": "code",
   "execution_count": 140,
   "metadata": {
    "scrolled": true
   },
   "outputs": [
    {
     "data": {
      "text/plain": [
       "'the earth revolves around the sun  the moon revolves around the earth is was as'"
      ]
     },
     "execution_count": 140,
     "metadata": {},
     "output_type": "execute_result"
    }
   ],
   "source": [
    "f_corpus = strip_punctuation(f_corpus)\n",
    "f_corpus = f_corpus.lower()\n",
    "f_corpus"
   ]
  },
  {
   "cell_type": "code",
   "execution_count": 141,
   "metadata": {},
   "outputs": [],
   "source": [
    "word_tokens = word_tokenize(f_corpus) "
   ]
  },
  {
   "cell_type": "code",
   "execution_count": 142,
   "metadata": {
    "scrolled": true
   },
   "outputs": [
    {
     "data": {
      "text/plain": [
       "['the',\n",
       " 'earth',\n",
       " 'revolves',\n",
       " 'around',\n",
       " 'the',\n",
       " 'sun',\n",
       " 'the',\n",
       " 'moon',\n",
       " 'revolves',\n",
       " 'around',\n",
       " 'the',\n",
       " 'earth',\n",
       " 'is',\n",
       " 'was',\n",
       " 'as']"
      ]
     },
     "execution_count": 142,
     "metadata": {},
     "output_type": "execute_result"
    }
   ],
   "source": [
    "word_tokens"
   ]
  },
  {
   "cell_type": "code",
   "execution_count": 129,
   "metadata": {
    "scrolled": true
   },
   "outputs": [],
   "source": [
    " stop_words = set(stopwords.words('english')) "
   ]
  },
  {
   "cell_type": "code",
   "execution_count": 143,
   "metadata": {},
   "outputs": [
    {
     "data": {
      "text/plain": [
       "['earth', 'revolves', 'around', 'sun', 'moon', 'revolves', 'around', 'earth']"
      ]
     },
     "execution_count": 143,
     "metadata": {},
     "output_type": "execute_result"
    }
   ],
   "source": [
    "filter_stop_words = [w for w in word_tokens if not w in stop_words]\n",
    "filter_stop_words"
   ]
  },
  {
   "cell_type": "code",
   "execution_count": 151,
   "metadata": {},
   "outputs": [],
   "source": [
    "# Create CBOW model \n",
    "model_cbow = gensim.models.Word2Vec([filter_stop_words], min_count = 1, \n",
    "\t\t\t\t\t\t\tsize = 10, window = 3) "
   ]
  },
  {
   "cell_type": "code",
   "execution_count": 152,
   "metadata": {},
   "outputs": [
    {
     "name": "stdout",
     "output_type": "stream",
     "text": [
      "Cosine similarity :  -0.7321145\n"
     ]
    }
   ],
   "source": [
    "# Print results \n",
    "print(\"Cosine similarity : \", \n",
    "\tmodel_cbow.similarity('earth','moon')) "
   ]
  },
  {
   "cell_type": "code",
   "execution_count": 153,
   "metadata": {},
   "outputs": [
    {
     "name": "stdout",
     "output_type": "stream",
     "text": [
      "[('revolves', 0.20000118), ('sun', 0.2000005), ('moon', 0.19999987), ('earth', 0.1999998), ('around', 0.19999865)]\n"
     ]
    }
   ],
   "source": [
    "context_words_list = ['earth','moon']\n",
    "cbow_output = model_cbow.predict_output_word(context_words_list)\n",
    "print(cbow_output)\n",
    "\n"
   ]
  },
  {
   "cell_type": "code",
   "execution_count": 154,
   "metadata": {},
   "outputs": [
    {
     "name": "stdout",
     "output_type": "stream",
     "text": [
      "Cosine similarity :  -0.7321145\n"
     ]
    }
   ],
   "source": [
    "# Create CBOW model \n",
    "model_sg = gensim.models.Word2Vec([filter_stop_words], min_count = 1, \n",
    "\t\t\t\t\t\t\tsize = 10, window = 3 ,sg=1) \n",
    "\n",
    "# Print results \n",
    "print(\"Cosine similarity : \", \n",
    "\tmodel_sg.similarity('earth','moon')) "
   ]
  },
  {
   "cell_type": "code",
   "execution_count": 155,
   "metadata": {},
   "outputs": [
    {
     "name": "stdout",
     "output_type": "stream",
     "text": [
      "[('revolves', 0.20000118), ('sun', 0.2000005), ('moon', 0.19999987), ('earth', 0.1999998), ('around', 0.19999865)]\n"
     ]
    }
   ],
   "source": [
    "context_words_list = ['earth','moon']\n",
    "cbow_output = model_sg.predict_output_word(context_words_list)\n",
    "print(cbow_output)"
   ]
  },
  {
   "cell_type": "code",
   "execution_count": 156,
   "metadata": {},
   "outputs": [
    {
     "data": {
      "text/plain": [
       "[('sun', 0.4691707491874695),\n",
       " ('revolves', 0.25312691926956177),\n",
       " ('around', -0.3198840320110321)]"
      ]
     },
     "execution_count": 156,
     "metadata": {},
     "output_type": "execute_result"
    }
   ],
   "source": [
    "model_cbow.most_similar(context_words_list)"
   ]
  },
  {
   "cell_type": "code",
   "execution_count": 161,
   "metadata": {
    "scrolled": false
   },
   "outputs": [
    {
     "data": {
      "text/plain": [
       "[('around', -0.18550512194633484),\n",
       " ('sun', -0.26584360003471375),\n",
       " ('revolves', -0.3109767436981201)]"
      ]
     },
     "execution_count": 161,
     "metadata": {},
     "output_type": "execute_result"
    }
   ],
   "source": [
    "w1 = 'moon'\n",
    "model_cbow.most_similar(positive = w1 , topn =3)"
   ]
  },
  {
   "cell_type": "code",
   "execution_count": 159,
   "metadata": {
    "scrolled": false
   },
   "outputs": [
    {
     "data": {
      "text/plain": [
       "[('sun', 0.4691707491874695),\n",
       " ('revolves', 0.25312691926956177),\n",
       " ('around', -0.3198840320110321)]"
      ]
     },
     "execution_count": 159,
     "metadata": {},
     "output_type": "execute_result"
    }
   ],
   "source": [
    "model_sg.most_similar(context_words_list)"
   ]
  },
  {
   "cell_type": "code",
   "execution_count": null,
   "metadata": {},
   "outputs": [],
   "source": []
  },
  {
   "cell_type": "markdown",
   "metadata": {},
   "source": [
    "## Stop Words Removal"
   ]
  },
  {
   "cell_type": "code",
   "execution_count": 68,
   "metadata": {},
   "outputs": [
    {
     "name": "stdout",
     "output_type": "stream",
     "text": [
      "['This', 'is', 'a', 'sample', 'sentence', ',', 'showing', 'off', 'the', 'stop', 'words', 'filtration', '.']\n",
      "['This', 'sample', 'sentence', ',', 'showing', 'stop', 'words', 'filtration', '.']\n"
     ]
    }
   ],
   "source": [
    "\n",
    "example_sent = \"This is a sample sentence, showing off the stop words filtration.\"\n",
    "\n",
    "stop_words = set(stopwords.words('english')) \n",
    "\n",
    "word_tokens = word_tokenize(example_sent) \n",
    "\n",
    "# filtered_sentence = [w for w in word_tokens if not w in stop_words] \n",
    "\n",
    "filtered_sentence = [] \n",
    "\n",
    "for w in word_tokens: \n",
    "\tif w not in stop_words: \n",
    "\t\tfiltered_sentence.append(w) \n",
    "\n",
    "print(word_tokens) \n",
    "print(filtered_sentence) \n"
   ]
  },
  {
   "cell_type": "code",
   "execution_count": 69,
   "metadata": {},
   "outputs": [],
   "source": [
    "filtered = [w for w in word_tokens if not w in stop_words] "
   ]
  },
  {
   "cell_type": "code",
   "execution_count": 70,
   "metadata": {},
   "outputs": [
    {
     "data": {
      "text/plain": [
       "['This',\n",
       " 'sample',\n",
       " 'sentence',\n",
       " ',',\n",
       " 'showing',\n",
       " 'stop',\n",
       " 'words',\n",
       " 'filtration',\n",
       " '.']"
      ]
     },
     "execution_count": 70,
     "metadata": {},
     "output_type": "execute_result"
    }
   ],
   "source": [
    "filtered"
   ]
  }
 ],
 "metadata": {
  "kernelspec": {
   "display_name": "Python 3",
   "language": "python",
   "name": "python3"
  },
  "language_info": {
   "codemirror_mode": {
    "name": "ipython",
    "version": 3
   },
   "file_extension": ".py",
   "mimetype": "text/x-python",
   "name": "python",
   "nbconvert_exporter": "python",
   "pygments_lexer": "ipython3",
   "version": "3.6.10"
  }
 },
 "nbformat": 4,
 "nbformat_minor": 2
}
