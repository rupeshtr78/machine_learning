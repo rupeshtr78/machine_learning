{
  "nbformat": 4,
  "nbformat_minor": 0,
  "metadata": {
    "colab": {
      "name": "Tensor2.0 KerasCNN.ipynb",
      "provenance": [],
      "collapsed_sections": []
    },
    "kernelspec": {
      "name": "python3",
      "display_name": "Python 3"
    }
  },
  "cells": [
    {
      "cell_type": "code",
      "metadata": {
        "id": "CX5nUdVzkjAG",
        "colab_type": "code",
        "colab": {
          "base_uri": "https://localhost:8080/",
          "height": 36
        },
        "outputId": "3791e07d-0ff4-48be-e692-158867b760db"
      },
      "source": [
        "%tensorflow_version 2.x"
      ],
      "execution_count": 1,
      "outputs": [
        {
          "output_type": "stream",
          "text": [
            "TensorFlow 2.x selected.\n"
          ],
          "name": "stdout"
        }
      ]
    },
    {
      "cell_type": "code",
      "metadata": {
        "id": "eG8RFAhOks3E",
        "colab_type": "code",
        "colab": {}
      },
      "source": [
        "from __future__ import absolute_import, division, print_function, unicode_literals\n",
        "\n",
        "import tensorflow as tf\n",
        "from tensorflow import keras\n",
        "from tensorflow.keras import datasets, layers, models\n",
        "import matplotlib.pyplot as plt\n",
        "from keras.datasets import mnist"
      ],
      "execution_count": 0,
      "outputs": []
    },
    {
      "cell_type": "code",
      "metadata": {
        "id": "TG20c7TTkzBr",
        "colab_type": "code",
        "colab": {
          "base_uri": "https://localhost:8080/",
          "height": 54
        },
        "outputId": "f2ee1a0e-a941-4ce8-c135-e4c4f089aa2c"
      },
      "source": [
        "(mnist_train_images, mnist_train_labels), (mnist_test_images, mnist_test_labels) = mnist.load_data()"
      ],
      "execution_count": 4,
      "outputs": [
        {
          "output_type": "stream",
          "text": [
            "Downloading data from https://s3.amazonaws.com/img-datasets/mnist.npz\n",
            "11493376/11490434 [==============================] - 0s 0us/step\n"
          ],
          "name": "stdout"
        }
      ]
    },
    {
      "cell_type": "code",
      "metadata": {
        "id": "YkhMMP0llBF9",
        "colab_type": "code",
        "colab": {
          "base_uri": "https://localhost:8080/",
          "height": 36
        },
        "outputId": "306c9465-974f-4dd0-b513-e2a1dac5c028"
      },
      "source": [
        "from tensorflow.keras import backend as K\n",
        "K.image_data_format()"
      ],
      "execution_count": 6,
      "outputs": [
        {
          "output_type": "execute_result",
          "data": {
            "text/plain": [
              "'channels_last'"
            ]
          },
          "metadata": {
            "tags": []
          },
          "execution_count": 6
        }
      ]
    },
    {
      "cell_type": "code",
      "metadata": {
        "id": "4ChfNWbflRJN",
        "colab_type": "code",
        "colab": {}
      },
      "source": [
        "train_images = mnist_train_images.reshape(mnist_train_images.shape[0], 28, 28, 1)\n",
        "test_images = mnist_test_images.reshape(mnist_test_images.shape[0], 28, 28, 1)\n",
        "input_shape = (28, 28, 1)\n",
        "    \n",
        "train_images = train_images.astype('float32')\n",
        "test_images = test_images.astype('float32')\n",
        "train_images /= 255\n",
        "test_images /= 255"
      ],
      "execution_count": 0,
      "outputs": []
    },
    {
      "cell_type": "code",
      "metadata": {
        "id": "YePBxtT5nOuM",
        "colab_type": "code",
        "colab": {}
      },
      "source": [
        "train_labels = tf.keras.utils.to_categorical(mnist_train_labels, 10)\n",
        "test_labels = tf.keras.utils.to_categorical(mnist_test_labels, 10)"
      ],
      "execution_count": 0,
      "outputs": []
    },
    {
      "cell_type": "code",
      "metadata": {
        "id": "JrnFkBEHnZDD",
        "colab_type": "code",
        "colab": {}
      },
      "source": [
        "model_cnn = keras.Sequential()\n",
        "input_shape = (28, 28, 1)\n",
        "model_cnn.add(layers.Conv2D(32, kernel_size=(3, 3),\n",
        "                 activation='relu',\n",
        "                 input_shape=input_shape))\n",
        "# 64 3x3 kernels\n",
        "model_cnn.add(layers.Conv2D(64, (3, 3), activation='relu'))\n",
        "# Reduce by taking the max of each 2x2 block\n",
        "model_cnn.add(layers.MaxPooling2D(pool_size=(2, 2)))\n",
        "# Dropout to avoid overfitting\n",
        "model_cnn.add(layers.Dropout(0.25))\n",
        "# Flatten the results to one dimension for passing into our final layer\n",
        "model_cnn.add(layers.Flatten())\n",
        "# A hidden layer to learn with\n",
        "model_cnn.add(layers.Dense(128, activation='relu'))\n",
        "# Another dropout\n",
        "model_cnn.add(layers.Dropout(0.5))\n",
        "# Final categorization from 0-9 with softmax\n",
        "model_cnn.add(layers.Dense(10, activation='softmax'))"
      ],
      "execution_count": 0,
      "outputs": []
    },
    {
      "cell_type": "code",
      "metadata": {
        "id": "lGYNQ0IVnvXC",
        "colab_type": "code",
        "colab": {
          "base_uri": "https://localhost:8080/",
          "height": 467
        },
        "outputId": "4757f8da-cc3f-4e87-a436-ec20a436a4ba"
      },
      "source": [
        "model_cnn.summary()"
      ],
      "execution_count": 13,
      "outputs": [
        {
          "output_type": "stream",
          "text": [
            "Model: \"sequential\"\n",
            "_________________________________________________________________\n",
            "Layer (type)                 Output Shape              Param #   \n",
            "=================================================================\n",
            "conv2d (Conv2D)              (None, 26, 26, 32)        320       \n",
            "_________________________________________________________________\n",
            "conv2d_1 (Conv2D)            (None, 24, 24, 64)        18496     \n",
            "_________________________________________________________________\n",
            "max_pooling2d (MaxPooling2D) (None, 12, 12, 64)        0         \n",
            "_________________________________________________________________\n",
            "dropout (Dropout)            (None, 12, 12, 64)        0         \n",
            "_________________________________________________________________\n",
            "flatten (Flatten)            (None, 9216)              0         \n",
            "_________________________________________________________________\n",
            "dense (Dense)                (None, 128)               1179776   \n",
            "_________________________________________________________________\n",
            "dropout_1 (Dropout)          (None, 128)               0         \n",
            "_________________________________________________________________\n",
            "dense_1 (Dense)              (None, 10)                1290      \n",
            "=================================================================\n",
            "Total params: 1,199,882\n",
            "Trainable params: 1,199,882\n",
            "Non-trainable params: 0\n",
            "_________________________________________________________________\n"
          ],
          "name": "stdout"
        }
      ]
    },
    {
      "cell_type": "code",
      "metadata": {
        "id": "dsdabteQnwn7",
        "colab_type": "code",
        "colab": {}
      },
      "source": [
        "model_cnn.compile(loss='categorical_crossentropy',\n",
        "              optimizer='adam',\n",
        "              metrics=['accuracy'])"
      ],
      "execution_count": 0,
      "outputs": []
    },
    {
      "cell_type": "code",
      "metadata": {
        "id": "VehITZaZn0sI",
        "colab_type": "code",
        "colab": {
          "base_uri": "https://localhost:8080/",
          "height": 410
        },
        "outputId": "5f77df19-5170-4d53-d73b-a5a17d83debb"
      },
      "source": [
        "history_cnn = model_cnn.fit(train_images, train_labels,\n",
        "                    batch_size=32,\n",
        "                    epochs=10,\n",
        "                    verbose=2,\n",
        "                    validation_data=(test_images, test_labels))"
      ],
      "execution_count": 15,
      "outputs": [
        {
          "output_type": "stream",
          "text": [
            "Train on 60000 samples, validate on 10000 samples\n",
            "Epoch 1/10\n",
            "60000/60000 - 160s - loss: 0.1940 - accuracy: 0.9418 - val_loss: 0.0502 - val_accuracy: 0.9837\n",
            "Epoch 2/10\n",
            "60000/60000 - 159s - loss: 0.0871 - accuracy: 0.9738 - val_loss: 0.0366 - val_accuracy: 0.9870\n",
            "Epoch 3/10\n",
            "60000/60000 - 160s - loss: 0.0653 - accuracy: 0.9805 - val_loss: 0.0340 - val_accuracy: 0.9882\n",
            "Epoch 4/10\n",
            "60000/60000 - 159s - loss: 0.0541 - accuracy: 0.9835 - val_loss: 0.0318 - val_accuracy: 0.9893\n",
            "Epoch 5/10\n",
            "60000/60000 - 158s - loss: 0.0454 - accuracy: 0.9863 - val_loss: 0.0322 - val_accuracy: 0.9900\n",
            "Epoch 6/10\n",
            "60000/60000 - 160s - loss: 0.0399 - accuracy: 0.9877 - val_loss: 0.0300 - val_accuracy: 0.9911\n",
            "Epoch 7/10\n",
            "60000/60000 - 159s - loss: 0.0363 - accuracy: 0.9892 - val_loss: 0.0248 - val_accuracy: 0.9933\n",
            "Epoch 8/10\n",
            "60000/60000 - 159s - loss: 0.0318 - accuracy: 0.9897 - val_loss: 0.0333 - val_accuracy: 0.9899\n",
            "Epoch 9/10\n",
            "60000/60000 - 154s - loss: 0.0292 - accuracy: 0.9907 - val_loss: 0.0251 - val_accuracy: 0.9930\n",
            "Epoch 10/10\n",
            "60000/60000 - 155s - loss: 0.0249 - accuracy: 0.9919 - val_loss: 0.0286 - val_accuracy: 0.9919\n"
          ],
          "name": "stdout"
        }
      ]
    },
    {
      "cell_type": "code",
      "metadata": {
        "id": "Rm4Jx5__t_KI",
        "colab_type": "code",
        "colab": {}
      },
      "source": [
        "predictions = model_cnn.predict(test_images)\n"
      ],
      "execution_count": 0,
      "outputs": []
    },
    {
      "cell_type": "code",
      "metadata": {
        "id": "x_u7MJbCuT2J",
        "colab_type": "code",
        "colab": {
          "base_uri": "https://localhost:8080/",
          "height": 36
        },
        "outputId": "57409eb6-6c15-43f5-af92-d7373b6d8790"
      },
      "source": [
        "import numpy as np\n",
        "np.argmax(predictions[100])\n"
      ],
      "execution_count": 21,
      "outputs": [
        {
          "output_type": "execute_result",
          "data": {
            "text/plain": [
              "6"
            ]
          },
          "metadata": {
            "tags": []
          },
          "execution_count": 21
        }
      ]
    },
    {
      "cell_type": "code",
      "metadata": {
        "id": "K0T_W0dRusZn",
        "colab_type": "code",
        "colab": {
          "base_uri": "https://localhost:8080/",
          "height": 36
        },
        "outputId": "175da6d5-eee4-481b-81d6-87af14b9418b"
      },
      "source": [
        "np.argmax(test_labels[100])"
      ],
      "execution_count": 26,
      "outputs": [
        {
          "output_type": "execute_result",
          "data": {
            "text/plain": [
              "6"
            ]
          },
          "metadata": {
            "tags": []
          },
          "execution_count": 26
        }
      ]
    },
    {
      "cell_type": "code",
      "metadata": {
        "id": "PSM6HgALvMLZ",
        "colab_type": "code",
        "colab": {
          "base_uri": "https://localhost:8080/",
          "height": 54
        },
        "outputId": "4341bf23-1078-4ec8-cd63-e0f06cfc6a5d"
      },
      "source": [
        "score = model_cnn.evaluate(test_images, test_labels, verbose=0)\n",
        "print('Test loss:', score[0])\n",
        "print('Test accuracy:', score[1])"
      ],
      "execution_count": 27,
      "outputs": [
        {
          "output_type": "stream",
          "text": [
            "Test loss: 0.028594107067741938\n",
            "Test accuracy: 0.9919\n"
          ],
          "name": "stdout"
        }
      ]
    }
  ]
}